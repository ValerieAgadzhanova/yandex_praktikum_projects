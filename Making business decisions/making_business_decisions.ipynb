{
 "cells": [
  {
   "cell_type": "markdown",
   "metadata": {},
   "source": [
    "# Принятие решени в бизнесе"
   ]
  },
  {
   "cell_type": "markdown",
   "metadata": {},
   "source": [
    "**Цель исследования:**\n",
    "- Приоритизировать гипотезы\n",
    "- Запустить A/B-тест\n",
    "- Проанализировать результаты и принять решение о успешном или неуспешном проведении теста.\n",
    "\n",
    "**Ход исследования:**\n",
    "- С помощью фреймворков ICE и RICE выбрать перспективные гипотезы для проведения А/В-теста.\n",
    "- Провести предобработку данных\n",
    "- Проверить корректность собраной информации\n",
    "- Проверить наличие аномалий в выборках\n",
    "- Провести статистические тесты на проверку успешности теста\n",
    "- Сделать выводы на основе полученых результатов\n",
    "\n",
    "**Описание данных**\n",
    "\n",
    "Файл hypothesis.csv\n",
    "- Hypothesis — краткое описание гипотезы;\n",
    "- Reach — охват пользователей по 10-балльной шкале;\n",
    "- Impact — влияние на пользователей по 10-балльной шкале;\n",
    "- Confidence — уверенность в гипотезе по 10-балльной шкале;\n",
    "- Efforts — затраты ресурсов на проверку гипотезы по 10-балльной шкале. Чем больше значение Efforts, тем дороже проверка гипотезы.\n",
    "\n",
    "Файл orders.csv\n",
    "- transactionId — идентификатор заказа;\n",
    "- visitorId — идентификатор пользователя, совершившего заказ;\n",
    "- date — дата, когда был совершён заказ;\n",
    "- revenue — выручка заказа;\n",
    "- group — группа A/B-теста, в которую попал заказ.\n",
    "\n",
    "Файл visitors.csv\n",
    "- date — дата;\n",
    "- group — группа A/B-теста;\n",
    "- visitors — количество пользователей в указанную дату в указанной группе A/B-теста"
   ]
  },
  {
   "cell_type": "markdown",
   "metadata": {},
   "source": [
    "## Оглавление"
   ]
  },
  {
   "cell_type": "markdown",
   "metadata": {},
   "source": [
    "[Часть 1. Приоритизация гипотез](#1)\n",
    "\n",
    "[Часть 2. Анализ A/B-теста ](#2)\n",
    "\n",
    "[Предобработка данных](#3)\n",
    "\n",
    "[Анализ данных](#4)\n",
    "\n",
    "[Поиск аномалий в данных](#5)\n",
    "\n",
    "[Статистическая значимость на \"сырых\" данных](#6)\n",
    "\n",
    "[\"Очищенные\" данные](#7)\n",
    "\n",
    "[Общий вывод](#8)"
   ]
  },
  {
   "cell_type": "markdown",
   "metadata": {},
   "source": [
    "**Импорт библиотек**"
   ]
  },
  {
   "cell_type": "code",
   "execution_count": 1,
   "metadata": {},
   "outputs": [],
   "source": [
    "import pandas as pd\n",
    "import numpy as np\n",
    "import datetime as dt\n",
    "import scipy.stats as stats\n",
    "import math as mth\n",
    "import warnings\n",
    "\n",
    "#визуализация\n",
    "import seaborn as sns\n",
    "import matplotlib.pyplot as plt\n",
    "from pandas.plotting import register_matplotlib_converters"
   ]
  },
  {
   "cell_type": "markdown",
   "metadata": {},
   "source": [
    "## Часть 1. Приоритизация гипотез. <a id='1'></a>"
   ]
  },
  {
   "cell_type": "code",
   "execution_count": 2,
   "metadata": {},
   "outputs": [],
   "source": [
    "# импорт датасета\n",
    "data = pd.read_csv('/datasets/hypothesis.csv')"
   ]
  },
  {
   "cell_type": "code",
   "execution_count": 3,
   "metadata": {
    "scrolled": false
   },
   "outputs": [
    {
     "data": {
      "text/html": [
       "<div>\n",
       "<style scoped>\n",
       "    .dataframe tbody tr th:only-of-type {\n",
       "        vertical-align: middle;\n",
       "    }\n",
       "\n",
       "    .dataframe tbody tr th {\n",
       "        vertical-align: top;\n",
       "    }\n",
       "\n",
       "    .dataframe thead th {\n",
       "        text-align: right;\n",
       "    }\n",
       "</style>\n",
       "<table border=\"1\" class=\"dataframe\">\n",
       "  <thead>\n",
       "    <tr style=\"text-align: right;\">\n",
       "      <th></th>\n",
       "      <th>Hypothesis</th>\n",
       "      <th>Reach</th>\n",
       "      <th>Impact</th>\n",
       "      <th>Confidence</th>\n",
       "      <th>Efforts</th>\n",
       "    </tr>\n",
       "  </thead>\n",
       "  <tbody>\n",
       "    <tr>\n",
       "      <th>0</th>\n",
       "      <td>Добавить два новых канала привлечения трафика, что позволит привлекать на 30% больше пользователей</td>\n",
       "      <td>3</td>\n",
       "      <td>10</td>\n",
       "      <td>8</td>\n",
       "      <td>6</td>\n",
       "    </tr>\n",
       "    <tr>\n",
       "      <th>1</th>\n",
       "      <td>Запустить собственную службу доставки, что сократит срок доставки заказов</td>\n",
       "      <td>2</td>\n",
       "      <td>5</td>\n",
       "      <td>4</td>\n",
       "      <td>10</td>\n",
       "    </tr>\n",
       "    <tr>\n",
       "      <th>2</th>\n",
       "      <td>Добавить блоки рекомендаций товаров на сайт интернет магазина, чтобы повысить конверсию и средний чек заказа</td>\n",
       "      <td>8</td>\n",
       "      <td>3</td>\n",
       "      <td>7</td>\n",
       "      <td>3</td>\n",
       "    </tr>\n",
       "    <tr>\n",
       "      <th>3</th>\n",
       "      <td>Изменить структура категорий, что увеличит конверсию, т.к. пользователи быстрее найдут нужный товар</td>\n",
       "      <td>8</td>\n",
       "      <td>3</td>\n",
       "      <td>3</td>\n",
       "      <td>8</td>\n",
       "    </tr>\n",
       "    <tr>\n",
       "      <th>4</th>\n",
       "      <td>Изменить цвет фона главной страницы, чтобы увеличить вовлеченность пользователей</td>\n",
       "      <td>3</td>\n",
       "      <td>1</td>\n",
       "      <td>1</td>\n",
       "      <td>1</td>\n",
       "    </tr>\n",
       "    <tr>\n",
       "      <th>5</th>\n",
       "      <td>Добавить страницу отзывов клиентов о магазине, что позволит увеличить количество заказов</td>\n",
       "      <td>3</td>\n",
       "      <td>2</td>\n",
       "      <td>2</td>\n",
       "      <td>3</td>\n",
       "    </tr>\n",
       "    <tr>\n",
       "      <th>6</th>\n",
       "      <td>Показать на главной странице баннеры с актуальными акциями и распродажами, чтобы увеличить конверсию</td>\n",
       "      <td>5</td>\n",
       "      <td>3</td>\n",
       "      <td>8</td>\n",
       "      <td>3</td>\n",
       "    </tr>\n",
       "    <tr>\n",
       "      <th>7</th>\n",
       "      <td>Добавить форму подписки на все основные страницы, чтобы собрать базу клиентов для email-рассылок</td>\n",
       "      <td>10</td>\n",
       "      <td>7</td>\n",
       "      <td>8</td>\n",
       "      <td>5</td>\n",
       "    </tr>\n",
       "    <tr>\n",
       "      <th>8</th>\n",
       "      <td>Запустить акцию, дающую скидку на товар в день рождения</td>\n",
       "      <td>1</td>\n",
       "      <td>9</td>\n",
       "      <td>9</td>\n",
       "      <td>5</td>\n",
       "    </tr>\n",
       "  </tbody>\n",
       "</table>\n",
       "</div>"
      ],
      "text/plain": [
       "                                                                                                     Hypothesis  \\\n",
       "0            Добавить два новых канала привлечения трафика, что позволит привлекать на 30% больше пользователей   \n",
       "1                                     Запустить собственную службу доставки, что сократит срок доставки заказов   \n",
       "2  Добавить блоки рекомендаций товаров на сайт интернет магазина, чтобы повысить конверсию и средний чек заказа   \n",
       "3           Изменить структура категорий, что увеличит конверсию, т.к. пользователи быстрее найдут нужный товар   \n",
       "4                              Изменить цвет фона главной страницы, чтобы увеличить вовлеченность пользователей   \n",
       "5                      Добавить страницу отзывов клиентов о магазине, что позволит увеличить количество заказов   \n",
       "6          Показать на главной странице баннеры с актуальными акциями и распродажами, чтобы увеличить конверсию   \n",
       "7              Добавить форму подписки на все основные страницы, чтобы собрать базу клиентов для email-рассылок   \n",
       "8                                                       Запустить акцию, дающую скидку на товар в день рождения   \n",
       "\n",
       "   Reach  Impact  Confidence  Efforts  \n",
       "0      3      10           8        6  \n",
       "1      2       5           4       10  \n",
       "2      8       3           7        3  \n",
       "3      8       3           3        8  \n",
       "4      3       1           1        1  \n",
       "5      3       2           2        3  \n",
       "6      5       3           8        3  \n",
       "7     10       7           8        5  \n",
       "8      1       9           9        5  "
      ]
     },
     "execution_count": 3,
     "metadata": {},
     "output_type": "execute_result"
    }
   ],
   "source": [
    "# просмотр данных\n",
    "pd.set_option('display.max_colwidth', None)\n",
    "data"
   ]
  },
  {
   "cell_type": "markdown",
   "metadata": {},
   "source": [
    "**Расшифровка параметров:**\n",
    "\n",
    "- Reach — скольких пользователей затронет изменение, которое вы хотите внести;\n",
    "- Impact — насколько сильно изменение повлияет на пользователей, их опыт и удовлетворение от продукта;\n",
    "- Confidence — насколько вы уверены, что это изменение повлияет на пользователей именно так;\n",
    "- Efforts — сколько стоит протестировать эту гипотезу."
   ]
  },
  {
   "cell_type": "markdown",
   "metadata": {},
   "source": [
    "### Фреймоврк ICE"
   ]
  },
  {
   "cell_type": "markdown",
   "metadata": {},
   "source": [
    "ICE — один из самых популярных способов приоритизации задач. Добавлю новый столбец с рейтингом ICE и, для удобства, округлю значение до 3 знаков после запятой.\n",
    "\n",
    " Формула расчета:\n",
    "\n",
    "$$ICE = \\frac{Impact * Confidence}{Efforts}$$"
   ]
  },
  {
   "cell_type": "code",
   "execution_count": 4,
   "metadata": {},
   "outputs": [
    {
     "data": {
      "text/html": [
       "<div>\n",
       "<style scoped>\n",
       "    .dataframe tbody tr th:only-of-type {\n",
       "        vertical-align: middle;\n",
       "    }\n",
       "\n",
       "    .dataframe tbody tr th {\n",
       "        vertical-align: top;\n",
       "    }\n",
       "\n",
       "    .dataframe thead th {\n",
       "        text-align: right;\n",
       "    }\n",
       "</style>\n",
       "<table border=\"1\" class=\"dataframe\">\n",
       "  <thead>\n",
       "    <tr style=\"text-align: right;\">\n",
       "      <th></th>\n",
       "      <th>Hypothesis</th>\n",
       "      <th>Reach</th>\n",
       "      <th>Impact</th>\n",
       "      <th>Confidence</th>\n",
       "      <th>Efforts</th>\n",
       "      <th>ICE</th>\n",
       "    </tr>\n",
       "  </thead>\n",
       "  <tbody>\n",
       "    <tr>\n",
       "      <th>8</th>\n",
       "      <td>Запустить акцию, дающую скидку на товар в день рождения</td>\n",
       "      <td>1</td>\n",
       "      <td>9</td>\n",
       "      <td>9</td>\n",
       "      <td>5</td>\n",
       "      <td>16.200</td>\n",
       "    </tr>\n",
       "    <tr>\n",
       "      <th>0</th>\n",
       "      <td>Добавить два новых канала привлечения трафика, что позволит привлекать на 30% больше пользователей</td>\n",
       "      <td>3</td>\n",
       "      <td>10</td>\n",
       "      <td>8</td>\n",
       "      <td>6</td>\n",
       "      <td>13.333</td>\n",
       "    </tr>\n",
       "    <tr>\n",
       "      <th>7</th>\n",
       "      <td>Добавить форму подписки на все основные страницы, чтобы собрать базу клиентов для email-рассылок</td>\n",
       "      <td>10</td>\n",
       "      <td>7</td>\n",
       "      <td>8</td>\n",
       "      <td>5</td>\n",
       "      <td>11.200</td>\n",
       "    </tr>\n",
       "    <tr>\n",
       "      <th>6</th>\n",
       "      <td>Показать на главной странице баннеры с актуальными акциями и распродажами, чтобы увеличить конверсию</td>\n",
       "      <td>5</td>\n",
       "      <td>3</td>\n",
       "      <td>8</td>\n",
       "      <td>3</td>\n",
       "      <td>8.000</td>\n",
       "    </tr>\n",
       "    <tr>\n",
       "      <th>2</th>\n",
       "      <td>Добавить блоки рекомендаций товаров на сайт интернет магазина, чтобы повысить конверсию и средний чек заказа</td>\n",
       "      <td>8</td>\n",
       "      <td>3</td>\n",
       "      <td>7</td>\n",
       "      <td>3</td>\n",
       "      <td>7.000</td>\n",
       "    </tr>\n",
       "    <tr>\n",
       "      <th>1</th>\n",
       "      <td>Запустить собственную службу доставки, что сократит срок доставки заказов</td>\n",
       "      <td>2</td>\n",
       "      <td>5</td>\n",
       "      <td>4</td>\n",
       "      <td>10</td>\n",
       "      <td>2.000</td>\n",
       "    </tr>\n",
       "    <tr>\n",
       "      <th>5</th>\n",
       "      <td>Добавить страницу отзывов клиентов о магазине, что позволит увеличить количество заказов</td>\n",
       "      <td>3</td>\n",
       "      <td>2</td>\n",
       "      <td>2</td>\n",
       "      <td>3</td>\n",
       "      <td>1.333</td>\n",
       "    </tr>\n",
       "    <tr>\n",
       "      <th>3</th>\n",
       "      <td>Изменить структура категорий, что увеличит конверсию, т.к. пользователи быстрее найдут нужный товар</td>\n",
       "      <td>8</td>\n",
       "      <td>3</td>\n",
       "      <td>3</td>\n",
       "      <td>8</td>\n",
       "      <td>1.125</td>\n",
       "    </tr>\n",
       "    <tr>\n",
       "      <th>4</th>\n",
       "      <td>Изменить цвет фона главной страницы, чтобы увеличить вовлеченность пользователей</td>\n",
       "      <td>3</td>\n",
       "      <td>1</td>\n",
       "      <td>1</td>\n",
       "      <td>1</td>\n",
       "      <td>1.000</td>\n",
       "    </tr>\n",
       "  </tbody>\n",
       "</table>\n",
       "</div>"
      ],
      "text/plain": [
       "                                                                                                     Hypothesis  \\\n",
       "8                                                       Запустить акцию, дающую скидку на товар в день рождения   \n",
       "0            Добавить два новых канала привлечения трафика, что позволит привлекать на 30% больше пользователей   \n",
       "7              Добавить форму подписки на все основные страницы, чтобы собрать базу клиентов для email-рассылок   \n",
       "6          Показать на главной странице баннеры с актуальными акциями и распродажами, чтобы увеличить конверсию   \n",
       "2  Добавить блоки рекомендаций товаров на сайт интернет магазина, чтобы повысить конверсию и средний чек заказа   \n",
       "1                                     Запустить собственную службу доставки, что сократит срок доставки заказов   \n",
       "5                      Добавить страницу отзывов клиентов о магазине, что позволит увеличить количество заказов   \n",
       "3           Изменить структура категорий, что увеличит конверсию, т.к. пользователи быстрее найдут нужный товар   \n",
       "4                              Изменить цвет фона главной страницы, чтобы увеличить вовлеченность пользователей   \n",
       "\n",
       "   Reach  Impact  Confidence  Efforts     ICE  \n",
       "8      1       9           9        5  16.200  \n",
       "0      3      10           8        6  13.333  \n",
       "7     10       7           8        5  11.200  \n",
       "6      5       3           8        3   8.000  \n",
       "2      8       3           7        3   7.000  \n",
       "1      2       5           4       10   2.000  \n",
       "5      3       2           2        3   1.333  \n",
       "3      8       3           3        8   1.125  \n",
       "4      3       1           1        1   1.000  "
      ]
     },
     "execution_count": 4,
     "metadata": {},
     "output_type": "execute_result"
    }
   ],
   "source": [
    "# добавление нового столбца\n",
    "data['ICE'] =round(data['Impact']*data['Confidence']/data['Efforts'],3)\n",
    "\n",
    "# сортировка значений по полю ICE\n",
    "pd.set_option('display.max_colwidth', None)\n",
    "data.sort_values(by='ICE', ascending=False)"
   ]
  },
  {
   "cell_type": "markdown",
   "metadata": {},
   "source": [
    "Наиболее перспективные гипотезы по ICE:\n",
    "- Запустить акцию, дающую скидку на товар в день рождения\t\n",
    "- Добавить два новых канала привлечения трафика, что позволит привлекать на 30% больше пользователей\n",
    "- Добавить форму подписки на все основные страницы, чтобы собрать базу клиентов для email-рассылок"
   ]
  },
  {
   "cell_type": "markdown",
   "metadata": {},
   "source": [
    "### Фреймоврк RICE"
   ]
  },
  {
   "cell_type": "markdown",
   "metadata": {},
   "source": [
    "Добавлю новый столбец с рейтингом RICE и округлю значение до 3 знаков.\n",
    "\n",
    "Формула расчета:\n",
    "$$RICE = \\frac{Rearch * Impact * Confidence}{Efforts}$$"
   ]
  },
  {
   "cell_type": "code",
   "execution_count": 5,
   "metadata": {},
   "outputs": [
    {
     "data": {
      "text/html": [
       "<div>\n",
       "<style scoped>\n",
       "    .dataframe tbody tr th:only-of-type {\n",
       "        vertical-align: middle;\n",
       "    }\n",
       "\n",
       "    .dataframe tbody tr th {\n",
       "        vertical-align: top;\n",
       "    }\n",
       "\n",
       "    .dataframe thead th {\n",
       "        text-align: right;\n",
       "    }\n",
       "</style>\n",
       "<table border=\"1\" class=\"dataframe\">\n",
       "  <thead>\n",
       "    <tr style=\"text-align: right;\">\n",
       "      <th></th>\n",
       "      <th>Hypothesis</th>\n",
       "      <th>Reach</th>\n",
       "      <th>Impact</th>\n",
       "      <th>Confidence</th>\n",
       "      <th>Efforts</th>\n",
       "      <th>ICE</th>\n",
       "      <th>RICE</th>\n",
       "    </tr>\n",
       "  </thead>\n",
       "  <tbody>\n",
       "    <tr>\n",
       "      <th>7</th>\n",
       "      <td>Добавить форму подписки на все основные страницы, чтобы собрать базу клиентов для email-рассылок</td>\n",
       "      <td>10</td>\n",
       "      <td>7</td>\n",
       "      <td>8</td>\n",
       "      <td>5</td>\n",
       "      <td>11.200</td>\n",
       "      <td>112.0</td>\n",
       "    </tr>\n",
       "    <tr>\n",
       "      <th>2</th>\n",
       "      <td>Добавить блоки рекомендаций товаров на сайт интернет магазина, чтобы повысить конверсию и средний чек заказа</td>\n",
       "      <td>8</td>\n",
       "      <td>3</td>\n",
       "      <td>7</td>\n",
       "      <td>3</td>\n",
       "      <td>7.000</td>\n",
       "      <td>56.0</td>\n",
       "    </tr>\n",
       "    <tr>\n",
       "      <th>0</th>\n",
       "      <td>Добавить два новых канала привлечения трафика, что позволит привлекать на 30% больше пользователей</td>\n",
       "      <td>3</td>\n",
       "      <td>10</td>\n",
       "      <td>8</td>\n",
       "      <td>6</td>\n",
       "      <td>13.333</td>\n",
       "      <td>40.0</td>\n",
       "    </tr>\n",
       "    <tr>\n",
       "      <th>6</th>\n",
       "      <td>Показать на главной странице баннеры с актуальными акциями и распродажами, чтобы увеличить конверсию</td>\n",
       "      <td>5</td>\n",
       "      <td>3</td>\n",
       "      <td>8</td>\n",
       "      <td>3</td>\n",
       "      <td>8.000</td>\n",
       "      <td>40.0</td>\n",
       "    </tr>\n",
       "    <tr>\n",
       "      <th>8</th>\n",
       "      <td>Запустить акцию, дающую скидку на товар в день рождения</td>\n",
       "      <td>1</td>\n",
       "      <td>9</td>\n",
       "      <td>9</td>\n",
       "      <td>5</td>\n",
       "      <td>16.200</td>\n",
       "      <td>16.2</td>\n",
       "    </tr>\n",
       "    <tr>\n",
       "      <th>3</th>\n",
       "      <td>Изменить структура категорий, что увеличит конверсию, т.к. пользователи быстрее найдут нужный товар</td>\n",
       "      <td>8</td>\n",
       "      <td>3</td>\n",
       "      <td>3</td>\n",
       "      <td>8</td>\n",
       "      <td>1.125</td>\n",
       "      <td>9.0</td>\n",
       "    </tr>\n",
       "    <tr>\n",
       "      <th>1</th>\n",
       "      <td>Запустить собственную службу доставки, что сократит срок доставки заказов</td>\n",
       "      <td>2</td>\n",
       "      <td>5</td>\n",
       "      <td>4</td>\n",
       "      <td>10</td>\n",
       "      <td>2.000</td>\n",
       "      <td>4.0</td>\n",
       "    </tr>\n",
       "    <tr>\n",
       "      <th>5</th>\n",
       "      <td>Добавить страницу отзывов клиентов о магазине, что позволит увеличить количество заказов</td>\n",
       "      <td>3</td>\n",
       "      <td>2</td>\n",
       "      <td>2</td>\n",
       "      <td>3</td>\n",
       "      <td>1.333</td>\n",
       "      <td>4.0</td>\n",
       "    </tr>\n",
       "    <tr>\n",
       "      <th>4</th>\n",
       "      <td>Изменить цвет фона главной страницы, чтобы увеличить вовлеченность пользователей</td>\n",
       "      <td>3</td>\n",
       "      <td>1</td>\n",
       "      <td>1</td>\n",
       "      <td>1</td>\n",
       "      <td>1.000</td>\n",
       "      <td>3.0</td>\n",
       "    </tr>\n",
       "  </tbody>\n",
       "</table>\n",
       "</div>"
      ],
      "text/plain": [
       "                                                                                                     Hypothesis  \\\n",
       "7              Добавить форму подписки на все основные страницы, чтобы собрать базу клиентов для email-рассылок   \n",
       "2  Добавить блоки рекомендаций товаров на сайт интернет магазина, чтобы повысить конверсию и средний чек заказа   \n",
       "0            Добавить два новых канала привлечения трафика, что позволит привлекать на 30% больше пользователей   \n",
       "6          Показать на главной странице баннеры с актуальными акциями и распродажами, чтобы увеличить конверсию   \n",
       "8                                                       Запустить акцию, дающую скидку на товар в день рождения   \n",
       "3           Изменить структура категорий, что увеличит конверсию, т.к. пользователи быстрее найдут нужный товар   \n",
       "1                                     Запустить собственную службу доставки, что сократит срок доставки заказов   \n",
       "5                      Добавить страницу отзывов клиентов о магазине, что позволит увеличить количество заказов   \n",
       "4                              Изменить цвет фона главной страницы, чтобы увеличить вовлеченность пользователей   \n",
       "\n",
       "   Reach  Impact  Confidence  Efforts     ICE   RICE  \n",
       "7     10       7           8        5  11.200  112.0  \n",
       "2      8       3           7        3   7.000   56.0  \n",
       "0      3      10           8        6  13.333   40.0  \n",
       "6      5       3           8        3   8.000   40.0  \n",
       "8      1       9           9        5  16.200   16.2  \n",
       "3      8       3           3        8   1.125    9.0  \n",
       "1      2       5           4       10   2.000    4.0  \n",
       "5      3       2           2        3   1.333    4.0  \n",
       "4      3       1           1        1   1.000    3.0  "
      ]
     },
     "execution_count": 5,
     "metadata": {},
     "output_type": "execute_result"
    }
   ],
   "source": [
    "# добавление нового столбца\n",
    "data['RICE'] = data['Reach']*data['Impact']*data['Confidence']/data['Efforts']\n",
    "\n",
    "# сортировка по полю Rice\n",
    "pd.set_option('display.max_colwidth', None)\n",
    "data.sort_values(by='RICE', ascending = False)"
   ]
  },
  {
   "cell_type": "markdown",
   "metadata": {},
   "source": [
    "Наиболее перспективные гипотезы по RICE:\n",
    "\n",
    "- Добавить форму подписки на все основные страницы, чтобы собрать базу клиентов для email-рассылок\n",
    "- Добавить блоки рекомендаций товаров на сайт интернет магазина, чтобы повысить конверсию и средний чек заказа\n",
    "- Добавить два новых канала привлечения трафика, что позволит привлекать на 30% больше пользователей"
   ]
  },
  {
   "cell_type": "code",
   "execution_count": 6,
   "metadata": {},
   "outputs": [
    {
     "data": {
      "image/png": "[encoded data removed]",
      "text/plain": [
       "<Figure size 720x720 with 1 Axes>"
      ]
     },
     "metadata": {
      "needs_background": "light"
     },
     "output_type": "display_data"
    }
   ],
   "source": [
    "y = data['ICE'] \n",
    "z = data['RICE'] \n",
    "n = data.index \n",
    "\n",
    "fig, ax = plt.subplots()\n",
    "ax.scatter(z, y)\n",
    "\n",
    "for i, txt in enumerate(n):\n",
    "    ax.annotate(txt, (z[i], y[i]), size=30)\n",
    "\n",
    "plt.title(\"ICE and RICE гипотезы\") \n",
    "plt.xlabel(\"RICE\") \n",
    "plt.ylabel(\"ICE\")\n",
    "\n",
    "fig.set_figheight(10)\n",
    "fig.set_figwidth(10) \n",
    "plt.show()   "
   ]
  },
  {
   "cell_type": "markdown",
   "metadata": {},
   "source": [
    "### Вывод"
   ]
  },
  {
   "cell_type": "markdown",
   "metadata": {},
   "source": [
    "После применения фреймворков по приоритизации гипотез, получились такие результаты:\n",
    "\n",
    "- Наиболее перспективные гипотезы по **ICE**:\n",
    "    - Запустить акцию, дающую скидку на товар в день рождения\t\n",
    "    - Добавить два новых канала привлечения трафика, что позволит привлекать на 30% больше пользователей\n",
    "    - Добавить форму подписки на все основные страницы, чтобы собрать базу клиентов для email-рассылок\n",
    "- Наиболее перспективные гипотезы по **RICE**:\n",
    "    - Добавить форму подписки на все основные страницы, чтобы собрать базу клиентов для email-рассылок\n",
    "    - Добавить блоки рекомендаций товаров на сайт интернет магазина, чтобы повысить конверсию и средний чек заказа\n",
    "    - Добавить два новых канала привлечения трафика, что позволит привлекать на 30% больше пользователей\n",
    "\n",
    "Разница в лидирующих гипотезах у метода Rice в том, что параметр *Reach* (скольких пользователей затронет изменение) 8-ой гипотезы равен 1, тогда как у 2-ой он равен 8.\n"
   ]
  },
  {
   "cell_type": "markdown",
   "metadata": {},
   "source": [
    "## Часть 2. Анализ A/B-теста <a id='2'></a>"
   ]
  },
  {
   "cell_type": "markdown",
   "metadata": {},
   "source": [
    "Был проведен A/B-тест и полученые результаты необходимо проанализировать."
   ]
  },
  {
   "cell_type": "code",
   "execution_count": 7,
   "metadata": {},
   "outputs": [],
   "source": [
    "#импорт датасетов\n",
    "orders = pd.read_csv('/datasets/orders.csv')\n",
    "visitors = pd.read_csv('/datasets/visitors.csv')"
   ]
  },
  {
   "cell_type": "markdown",
   "metadata": {},
   "source": [
    "### Предобработка данных <a id='3'></a>"
   ]
  },
  {
   "cell_type": "markdown",
   "metadata": {},
   "source": [
    "Для упрощения работы, создам функцию первичной оценки качества данных."
   ]
  },
  {
   "cell_type": "code",
   "execution_count": 8,
   "metadata": {},
   "outputs": [],
   "source": [
    "#функция для первичного просмотра данных\n",
    "def check_df(data):\n",
    "    head = data.head()\n",
    "    info = data.info() \n",
    "    descr = data.describe()\n",
    "    dupl = data.duplicated().sum() # количество дубликатов\n",
    "    gaps = pd.DataFrame(round(data.isna().mean()*100,)).style.background_gradient('coolwarm') # количество пропусков \n",
    "    return display(head, info, descr, gaps), print('Количество дубликатов:', dupl)"
   ]
  },
  {
   "cell_type": "markdown",
   "metadata": {},
   "source": [
    "**Датасет Orders**"
   ]
  },
  {
   "cell_type": "code",
   "execution_count": 9,
   "metadata": {},
   "outputs": [
    {
     "name": "stdout",
     "output_type": "stream",
     "text": [
      "<class 'pandas.core.frame.DataFrame'>\n",
      "RangeIndex: 1197 entries, 0 to 1196\n",
      "Data columns (total 5 columns):\n",
      " #   Column         Non-Null Count  Dtype \n",
      "---  ------         --------------  ----- \n",
      " 0   transactionId  1197 non-null   int64 \n",
      " 1   visitorId      1197 non-null   int64 \n",
      " 2   date           1197 non-null   object\n",
      " 3   revenue        1197 non-null   int64 \n",
      " 4   group          1197 non-null   object\n",
      "dtypes: int64(3), object(2)\n",
      "memory usage: 46.9+ KB\n"
     ]
    },
    {
     "data": {
      "text/html": [
       "<div>\n",
       "<style scoped>\n",
       "    .dataframe tbody tr th:only-of-type {\n",
       "        vertical-align: middle;\n",
       "    }\n",
       "\n",
       "    .dataframe tbody tr th {\n",
       "        vertical-align: top;\n",
       "    }\n",
       "\n",
       "    .dataframe thead th {\n",
       "        text-align: right;\n",
       "    }\n",
       "</style>\n",
       "<table border=\"1\" class=\"dataframe\">\n",
       "  <thead>\n",
       "    <tr style=\"text-align: right;\">\n",
       "      <th></th>\n",
       "      <th>transactionId</th>\n",
       "      <th>visitorId</th>\n",
       "      <th>date</th>\n",
       "      <th>revenue</th>\n",
       "      <th>group</th>\n",
       "    </tr>\n",
       "  </thead>\n",
       "  <tbody>\n",
       "    <tr>\n",
       "      <th>0</th>\n",
       "      <td>3667963787</td>\n",
       "      <td>3312258926</td>\n",
       "      <td>2019-08-15</td>\n",
       "      <td>1650</td>\n",
       "      <td>B</td>\n",
       "    </tr>\n",
       "    <tr>\n",
       "      <th>1</th>\n",
       "      <td>2804400009</td>\n",
       "      <td>3642806036</td>\n",
       "      <td>2019-08-15</td>\n",
       "      <td>730</td>\n",
       "      <td>B</td>\n",
       "    </tr>\n",
       "    <tr>\n",
       "      <th>2</th>\n",
       "      <td>2961555356</td>\n",
       "      <td>4069496402</td>\n",
       "      <td>2019-08-15</td>\n",
       "      <td>400</td>\n",
       "      <td>A</td>\n",
       "    </tr>\n",
       "    <tr>\n",
       "      <th>3</th>\n",
       "      <td>3797467345</td>\n",
       "      <td>1196621759</td>\n",
       "      <td>2019-08-15</td>\n",
       "      <td>9759</td>\n",
       "      <td>B</td>\n",
       "    </tr>\n",
       "    <tr>\n",
       "      <th>4</th>\n",
       "      <td>2282983706</td>\n",
       "      <td>2322279887</td>\n",
       "      <td>2019-08-15</td>\n",
       "      <td>2308</td>\n",
       "      <td>B</td>\n",
       "    </tr>\n",
       "  </tbody>\n",
       "</table>\n",
       "</div>"
      ],
      "text/plain": [
       "   transactionId   visitorId        date  revenue group\n",
       "0     3667963787  3312258926  2019-08-15     1650     B\n",
       "1     2804400009  3642806036  2019-08-15      730     B\n",
       "2     2961555356  4069496402  2019-08-15      400     A\n",
       "3     3797467345  1196621759  2019-08-15     9759     B\n",
       "4     2282983706  2322279887  2019-08-15     2308     B"
      ]
     },
     "metadata": {},
     "output_type": "display_data"
    },
    {
     "data": {
      "text/plain": [
       "None"
      ]
     },
     "metadata": {},
     "output_type": "display_data"
    },
    {
     "data": {
      "text/html": [
       "<div>\n",
       "<style scoped>\n",
       "    .dataframe tbody tr th:only-of-type {\n",
       "        vertical-align: middle;\n",
       "    }\n",
       "\n",
       "    .dataframe tbody tr th {\n",
       "        vertical-align: top;\n",
       "    }\n",
       "\n",
       "    .dataframe thead th {\n",
       "        text-align: right;\n",
       "    }\n",
       "</style>\n",
       "<table border=\"1\" class=\"dataframe\">\n",
       "  <thead>\n",
       "    <tr style=\"text-align: right;\">\n",
       "      <th></th>\n",
       "      <th>transactionId</th>\n",
       "      <th>visitorId</th>\n",
       "      <th>revenue</th>\n",
       "    </tr>\n",
       "  </thead>\n",
       "  <tbody>\n",
       "    <tr>\n",
       "      <th>count</th>\n",
       "      <td>1.197000e+03</td>\n",
       "      <td>1.197000e+03</td>\n",
       "      <td>1.197000e+03</td>\n",
       "    </tr>\n",
       "    <tr>\n",
       "      <th>mean</th>\n",
       "      <td>2.155621e+09</td>\n",
       "      <td>2.165960e+09</td>\n",
       "      <td>8.348006e+03</td>\n",
       "    </tr>\n",
       "    <tr>\n",
       "      <th>std</th>\n",
       "      <td>1.229085e+09</td>\n",
       "      <td>1.236014e+09</td>\n",
       "      <td>3.919113e+04</td>\n",
       "    </tr>\n",
       "    <tr>\n",
       "      <th>min</th>\n",
       "      <td>1.062393e+06</td>\n",
       "      <td>5.114589e+06</td>\n",
       "      <td>5.000000e+01</td>\n",
       "    </tr>\n",
       "    <tr>\n",
       "      <th>25%</th>\n",
       "      <td>1.166776e+09</td>\n",
       "      <td>1.111826e+09</td>\n",
       "      <td>1.220000e+03</td>\n",
       "    </tr>\n",
       "    <tr>\n",
       "      <th>50%</th>\n",
       "      <td>2.145194e+09</td>\n",
       "      <td>2.217985e+09</td>\n",
       "      <td>2.978000e+03</td>\n",
       "    </tr>\n",
       "    <tr>\n",
       "      <th>75%</th>\n",
       "      <td>3.237740e+09</td>\n",
       "      <td>3.177606e+09</td>\n",
       "      <td>8.290000e+03</td>\n",
       "    </tr>\n",
       "    <tr>\n",
       "      <th>max</th>\n",
       "      <td>4.293856e+09</td>\n",
       "      <td>4.283872e+09</td>\n",
       "      <td>1.294500e+06</td>\n",
       "    </tr>\n",
       "  </tbody>\n",
       "</table>\n",
       "</div>"
      ],
      "text/plain": [
       "       transactionId     visitorId       revenue\n",
       "count   1.197000e+03  1.197000e+03  1.197000e+03\n",
       "mean    2.155621e+09  2.165960e+09  8.348006e+03\n",
       "std     1.229085e+09  1.236014e+09  3.919113e+04\n",
       "min     1.062393e+06  5.114589e+06  5.000000e+01\n",
       "25%     1.166776e+09  1.111826e+09  1.220000e+03\n",
       "50%     2.145194e+09  2.217985e+09  2.978000e+03\n",
       "75%     3.237740e+09  3.177606e+09  8.290000e+03\n",
       "max     4.293856e+09  4.283872e+09  1.294500e+06"
      ]
     },
     "metadata": {},
     "output_type": "display_data"
    },
    {
     "data": {
      "text/html": [
       "<style  type=\"text/css\" >\n",
       "#T_97e50_row0_col0,#T_97e50_row1_col0,#T_97e50_row2_col0,#T_97e50_row3_col0,#T_97e50_row4_col0{\n",
       "            background-color:  #3b4cc0;\n",
       "            color:  #f1f1f1;\n",
       "        }</style><table id=\"T_97e50_\" ><thead>    <tr>        <th class=\"blank level0\" ></th>        <th class=\"col_heading level0 col0\" >0</th>    </tr></thead><tbody>\n",
       "                <tr>\n",
       "                        <th id=\"T_97e50_level0_row0\" class=\"row_heading level0 row0\" >transactionId</th>\n",
       "                        <td id=\"T_97e50_row0_col0\" class=\"data row0 col0\" >0.000000</td>\n",
       "            </tr>\n",
       "            <tr>\n",
       "                        <th id=\"T_97e50_level0_row1\" class=\"row_heading level0 row1\" >visitorId</th>\n",
       "                        <td id=\"T_97e50_row1_col0\" class=\"data row1 col0\" >0.000000</td>\n",
       "            </tr>\n",
       "            <tr>\n",
       "                        <th id=\"T_97e50_level0_row2\" class=\"row_heading level0 row2\" >date</th>\n",
       "                        <td id=\"T_97e50_row2_col0\" class=\"data row2 col0\" >0.000000</td>\n",
       "            </tr>\n",
       "            <tr>\n",
       "                        <th id=\"T_97e50_level0_row3\" class=\"row_heading level0 row3\" >revenue</th>\n",
       "                        <td id=\"T_97e50_row3_col0\" class=\"data row3 col0\" >0.000000</td>\n",
       "            </tr>\n",
       "            <tr>\n",
       "                        <th id=\"T_97e50_level0_row4\" class=\"row_heading level0 row4\" >group</th>\n",
       "                        <td id=\"T_97e50_row4_col0\" class=\"data row4 col0\" >0.000000</td>\n",
       "            </tr>\n",
       "    </tbody></table>"
      ],
      "text/plain": [
       "<pandas.io.formats.style.Styler at 0x7f7408583df0>"
      ]
     },
     "metadata": {},
     "output_type": "display_data"
    },
    {
     "name": "stdout",
     "output_type": "stream",
     "text": [
      "Количество дубликатов: 0\n"
     ]
    },
    {
     "data": {
      "text/plain": [
       "(None, None)"
      ]
     },
     "execution_count": 9,
     "metadata": {},
     "output_type": "execute_result"
    }
   ],
   "source": [
    "#просмотр данных датасета orders\n",
    "check_df(orders)"
   ]
  },
  {
   "cell_type": "markdown",
   "metadata": {},
   "source": [
    "Кроме исправления формата в колонке дата, других проблем в датасете не обнаружено. Дополнительно приведу названия в \"змеиный стиль\"."
   ]
  },
  {
   "cell_type": "code",
   "execution_count": 10,
   "metadata": {},
   "outputs": [],
   "source": [
    "#изменение названия\n",
    "orders = orders.rename(columns = {'transactionId':'transaction_id', 'visitorId':'visitor_id'})\n",
    "\n",
    "#изменения формата на тип даты\n",
    "orders['date'] = orders['date'].astype('datetime64')"
   ]
  },
  {
   "cell_type": "markdown",
   "metadata": {},
   "source": [
    "**Датасет Visitors**"
   ]
  },
  {
   "cell_type": "code",
   "execution_count": 11,
   "metadata": {},
   "outputs": [
    {
     "name": "stdout",
     "output_type": "stream",
     "text": [
      "<class 'pandas.core.frame.DataFrame'>\n",
      "RangeIndex: 62 entries, 0 to 61\n",
      "Data columns (total 3 columns):\n",
      " #   Column    Non-Null Count  Dtype \n",
      "---  ------    --------------  ----- \n",
      " 0   date      62 non-null     object\n",
      " 1   group     62 non-null     object\n",
      " 2   visitors  62 non-null     int64 \n",
      "dtypes: int64(1), object(2)\n",
      "memory usage: 1.6+ KB\n"
     ]
    },
    {
     "data": {
      "text/html": [
       "<div>\n",
       "<style scoped>\n",
       "    .dataframe tbody tr th:only-of-type {\n",
       "        vertical-align: middle;\n",
       "    }\n",
       "\n",
       "    .dataframe tbody tr th {\n",
       "        vertical-align: top;\n",
       "    }\n",
       "\n",
       "    .dataframe thead th {\n",
       "        text-align: right;\n",
       "    }\n",
       "</style>\n",
       "<table border=\"1\" class=\"dataframe\">\n",
       "  <thead>\n",
       "    <tr style=\"text-align: right;\">\n",
       "      <th></th>\n",
       "      <th>date</th>\n",
       "      <th>group</th>\n",
       "      <th>visitors</th>\n",
       "    </tr>\n",
       "  </thead>\n",
       "  <tbody>\n",
       "    <tr>\n",
       "      <th>0</th>\n",
       "      <td>2019-08-01</td>\n",
       "      <td>A</td>\n",
       "      <td>719</td>\n",
       "    </tr>\n",
       "    <tr>\n",
       "      <th>1</th>\n",
       "      <td>2019-08-02</td>\n",
       "      <td>A</td>\n",
       "      <td>619</td>\n",
       "    </tr>\n",
       "    <tr>\n",
       "      <th>2</th>\n",
       "      <td>2019-08-03</td>\n",
       "      <td>A</td>\n",
       "      <td>507</td>\n",
       "    </tr>\n",
       "    <tr>\n",
       "      <th>3</th>\n",
       "      <td>2019-08-04</td>\n",
       "      <td>A</td>\n",
       "      <td>717</td>\n",
       "    </tr>\n",
       "    <tr>\n",
       "      <th>4</th>\n",
       "      <td>2019-08-05</td>\n",
       "      <td>A</td>\n",
       "      <td>756</td>\n",
       "    </tr>\n",
       "  </tbody>\n",
       "</table>\n",
       "</div>"
      ],
      "text/plain": [
       "         date group  visitors\n",
       "0  2019-08-01     A       719\n",
       "1  2019-08-02     A       619\n",
       "2  2019-08-03     A       507\n",
       "3  2019-08-04     A       717\n",
       "4  2019-08-05     A       756"
      ]
     },
     "metadata": {},
     "output_type": "display_data"
    },
    {
     "data": {
      "text/plain": [
       "None"
      ]
     },
     "metadata": {},
     "output_type": "display_data"
    },
    {
     "data": {
      "text/html": [
       "<div>\n",
       "<style scoped>\n",
       "    .dataframe tbody tr th:only-of-type {\n",
       "        vertical-align: middle;\n",
       "    }\n",
       "\n",
       "    .dataframe tbody tr th {\n",
       "        vertical-align: top;\n",
       "    }\n",
       "\n",
       "    .dataframe thead th {\n",
       "        text-align: right;\n",
       "    }\n",
       "</style>\n",
       "<table border=\"1\" class=\"dataframe\">\n",
       "  <thead>\n",
       "    <tr style=\"text-align: right;\">\n",
       "      <th></th>\n",
       "      <th>visitors</th>\n",
       "    </tr>\n",
       "  </thead>\n",
       "  <tbody>\n",
       "    <tr>\n",
       "      <th>count</th>\n",
       "      <td>62.000000</td>\n",
       "    </tr>\n",
       "    <tr>\n",
       "      <th>mean</th>\n",
       "      <td>607.290323</td>\n",
       "    </tr>\n",
       "    <tr>\n",
       "      <th>std</th>\n",
       "      <td>114.400560</td>\n",
       "    </tr>\n",
       "    <tr>\n",
       "      <th>min</th>\n",
       "      <td>361.000000</td>\n",
       "    </tr>\n",
       "    <tr>\n",
       "      <th>25%</th>\n",
       "      <td>534.000000</td>\n",
       "    </tr>\n",
       "    <tr>\n",
       "      <th>50%</th>\n",
       "      <td>624.500000</td>\n",
       "    </tr>\n",
       "    <tr>\n",
       "      <th>75%</th>\n",
       "      <td>710.500000</td>\n",
       "    </tr>\n",
       "    <tr>\n",
       "      <th>max</th>\n",
       "      <td>770.000000</td>\n",
       "    </tr>\n",
       "  </tbody>\n",
       "</table>\n",
       "</div>"
      ],
      "text/plain": [
       "         visitors\n",
       "count   62.000000\n",
       "mean   607.290323\n",
       "std    114.400560\n",
       "min    361.000000\n",
       "25%    534.000000\n",
       "50%    624.500000\n",
       "75%    710.500000\n",
       "max    770.000000"
      ]
     },
     "metadata": {},
     "output_type": "display_data"
    },
    {
     "data": {
      "text/html": [
       "<style  type=\"text/css\" >\n",
       "#T_2d1e7_row0_col0,#T_2d1e7_row1_col0,#T_2d1e7_row2_col0{\n",
       "            background-color:  #3b4cc0;\n",
       "            color:  #f1f1f1;\n",
       "        }</style><table id=\"T_2d1e7_\" ><thead>    <tr>        <th class=\"blank level0\" ></th>        <th class=\"col_heading level0 col0\" >0</th>    </tr></thead><tbody>\n",
       "                <tr>\n",
       "                        <th id=\"T_2d1e7_level0_row0\" class=\"row_heading level0 row0\" >date</th>\n",
       "                        <td id=\"T_2d1e7_row0_col0\" class=\"data row0 col0\" >0.000000</td>\n",
       "            </tr>\n",
       "            <tr>\n",
       "                        <th id=\"T_2d1e7_level0_row1\" class=\"row_heading level0 row1\" >group</th>\n",
       "                        <td id=\"T_2d1e7_row1_col0\" class=\"data row1 col0\" >0.000000</td>\n",
       "            </tr>\n",
       "            <tr>\n",
       "                        <th id=\"T_2d1e7_level0_row2\" class=\"row_heading level0 row2\" >visitors</th>\n",
       "                        <td id=\"T_2d1e7_row2_col0\" class=\"data row2 col0\" >0.000000</td>\n",
       "            </tr>\n",
       "    </tbody></table>"
      ],
      "text/plain": [
       "<pandas.io.formats.style.Styler at 0x7f74004aabe0>"
      ]
     },
     "metadata": {},
     "output_type": "display_data"
    },
    {
     "name": "stdout",
     "output_type": "stream",
     "text": [
      "Количество дубликатов: 0\n"
     ]
    },
    {
     "data": {
      "text/plain": [
       "(None, None)"
      ]
     },
     "execution_count": 11,
     "metadata": {},
     "output_type": "execute_result"
    }
   ],
   "source": [
    "#просмотр данных датасета visitors\n",
    "check_df(visitors)"
   ]
  },
  {
   "cell_type": "markdown",
   "metadata": {},
   "source": [
    "В датасете visitors необходимо исправить тип колонки с датой."
   ]
  },
  {
   "cell_type": "code",
   "execution_count": 12,
   "metadata": {},
   "outputs": [],
   "source": [
    "#изменения формата на тип даты\n",
    "visitors['date'] = visitors['date'].astype('datetime64')"
   ]
  },
  {
   "cell_type": "markdown",
   "metadata": {},
   "source": [
    "Необходимо провести проверку на неявные дубликаты, а именно, убедиться, что один пользователь не попал в обе группы."
   ]
  },
  {
   "cell_type": "code",
   "execution_count": 13,
   "metadata": {},
   "outputs": [],
   "source": [
    "#делю пользователей по группам\n",
    "group_a = orders[orders['group'] == 'A']['visitor_id']\n",
    "group_b = orders[orders['group'] == 'B']['visitor_id']\n",
    "\n",
    "#проверка на совпадения\n",
    "match_ab = np.intersect1d(group_a,group_b)"
   ]
  },
  {
   "cell_type": "code",
   "execution_count": 14,
   "metadata": {},
   "outputs": [
    {
     "data": {
      "text/plain": [
       "array([   8300375,  199603092,  232979603,  237748145,  276558944,\n",
       "        351125977,  393266494,  457167155,  471551937,  477780734,\n",
       "        818047933,  963407295, 1230306981, 1294878855, 1316129916,\n",
       "       1333886533, 1404934699, 1602967004, 1614305549, 1648269707,\n",
       "       1668030113, 1738359350, 1801183820, 1959144690, 2038680547,\n",
       "       2044997962, 2378935119, 2458001652, 2579882178, 2587333274,\n",
       "       2600415354, 2654030115, 2686716486, 2712142231, 2716752286,\n",
       "       2780786433, 2927087541, 2949041841, 2954449915, 3062433592,\n",
       "       3202540741, 3234906277, 3656415546, 3717692402, 3766097110,\n",
       "       3803269165, 3891541246, 3941795274, 3951559397, 3957174400,\n",
       "       3963646447, 3972127743, 3984495233, 4069496402, 4120364173,\n",
       "       4186807279, 4256040402, 4266935830])"
      ]
     },
     "execution_count": 14,
     "metadata": {},
     "output_type": "execute_result"
    }
   ],
   "source": [
    "match_ab"
   ]
  },
  {
   "cell_type": "code",
   "execution_count": 15,
   "metadata": {},
   "outputs": [
    {
     "name": "stdout",
     "output_type": "stream",
     "text": [
      "Количество пересекающихся пользователей в группах: 58\n"
     ]
    }
   ],
   "source": [
    "print(f'Количество пересекающихся пользователей в группах: {len(match_ab)}')"
   ]
  },
  {
   "cell_type": "markdown",
   "metadata": {},
   "source": [
    "Уберу данных пользователей из датасета."
   ]
  },
  {
   "cell_type": "code",
   "execution_count": 16,
   "metadata": {},
   "outputs": [],
   "source": [
    "#исключение пользователей, попавших в обе группы\n",
    "orders = orders[~orders['visitor_id'].isin(match_ab)]"
   ]
  },
  {
   "cell_type": "markdown",
   "metadata": {},
   "source": [
    "Проверю количество пользователей в группах."
   ]
  },
  {
   "cell_type": "code",
   "execution_count": 17,
   "metadata": {},
   "outputs": [
    {
     "name": "stdout",
     "output_type": "stream",
     "text": [
      "Количество пользователей группы А: 445\n",
      "Количество пользователей группы В: 528\n"
     ]
    }
   ],
   "source": [
    "print('Количество пользователей группы А:',orders[orders['group'] == 'A']['visitor_id'].nunique())\n",
    "print('Количество пользователей группы В:',orders[orders['group'] == 'B']['visitor_id'].nunique())"
   ]
  },
  {
   "cell_type": "markdown",
   "metadata": {},
   "source": [
    "Группы не равны, и при небольшой выборке, разница в 83 человек может значительно исказить выводы по проведенному А/Б-тесту."
   ]
  },
  {
   "cell_type": "code",
   "execution_count": 18,
   "metadata": {
    "scrolled": true
   },
   "outputs": [
    {
     "data": {
      "text/plain": [
       "(Timestamp('2019-08-01 00:00:00'), Timestamp('2019-08-31 00:00:00'))"
      ]
     },
     "execution_count": 18,
     "metadata": {},
     "output_type": "execute_result"
    }
   ],
   "source": [
    "#минимальная и максимальные даты\n",
    "orders['date'].min(),orders['date'].max()"
   ]
  },
  {
   "cell_type": "code",
   "execution_count": 19,
   "metadata": {},
   "outputs": [
    {
     "data": {
      "text/plain": [
       "(Timestamp('2019-08-01 00:00:00'), Timestamp('2019-08-31 00:00:00'))"
      ]
     },
     "execution_count": 19,
     "metadata": {},
     "output_type": "execute_result"
    }
   ],
   "source": [
    "#минимальная и максимальные даты\n",
    "visitors['date'].min(),visitors['date'].max()"
   ]
  },
  {
   "cell_type": "markdown",
   "metadata": {},
   "source": [
    "Даты начала и окончания тестирования в обоих датасетах совпадают"
   ]
  },
  {
   "cell_type": "code",
   "execution_count": 20,
   "metadata": {},
   "outputs": [
    {
     "data": {
      "text/html": [
       "<div>\n",
       "<style scoped>\n",
       "    .dataframe tbody tr th:only-of-type {\n",
       "        vertical-align: middle;\n",
       "    }\n",
       "\n",
       "    .dataframe tbody tr th {\n",
       "        vertical-align: top;\n",
       "    }\n",
       "\n",
       "    .dataframe thead th {\n",
       "        text-align: right;\n",
       "    }\n",
       "</style>\n",
       "<table border=\"1\" class=\"dataframe\">\n",
       "  <thead>\n",
       "    <tr style=\"text-align: right;\">\n",
       "      <th></th>\n",
       "      <th>group</th>\n",
       "      <th>visitors</th>\n",
       "    </tr>\n",
       "  </thead>\n",
       "  <tbody>\n",
       "    <tr>\n",
       "      <th>0</th>\n",
       "      <td>A</td>\n",
       "      <td>18736</td>\n",
       "    </tr>\n",
       "    <tr>\n",
       "      <th>1</th>\n",
       "      <td>B</td>\n",
       "      <td>18916</td>\n",
       "    </tr>\n",
       "  </tbody>\n",
       "</table>\n",
       "</div>"
      ],
      "text/plain": [
       "  group  visitors\n",
       "0     A     18736\n",
       "1     B     18916"
      ]
     },
     "execution_count": 20,
     "metadata": {},
     "output_type": "execute_result"
    }
   ],
   "source": [
    "# количество посещений по группам\n",
    "visitors.pivot_table(index='group',values='visitors',aggfunc='sum').reset_index()"
   ]
  },
  {
   "cell_type": "markdown",
   "metadata": {},
   "source": [
    "Количетсво посещений различается незначительно, значит разница в количестве человек в группах не будет являться критичной."
   ]
  },
  {
   "cell_type": "markdown",
   "metadata": {},
   "source": [
    "### Вывод"
   ]
  },
  {
   "cell_type": "markdown",
   "metadata": {},
   "source": [
    "- На предобработке данных были исправлены форматы даты и удалены пользователи, попавшие в обе группы. Явных дубликатов и пропущенных значений обнаружено не было. Название некоторых колонок были приведены к змеиному стилю.\n",
    "- Была обнаружена разница в группах в размере 83 человек. Однако, количество посещений различается незначительно, поэтому разница  в группах не будет являться критичной."
   ]
  },
  {
   "cell_type": "markdown",
   "metadata": {},
   "source": [
    "### Анализ данных <a id='4'></a>"
   ]
  },
  {
   "cell_type": "markdown",
   "metadata": {},
   "source": [
    "Подготовка данных для построения графиков."
   ]
  },
  {
   "cell_type": "code",
   "execution_count": 21,
   "metadata": {},
   "outputs": [],
   "source": [
    "# имассив уникальных пар значений дат и групп теста\n",
    "dates_groups = orders[['date','group']].drop_duplicates()"
   ]
  },
  {
   "cell_type": "code",
   "execution_count": 22,
   "metadata": {},
   "outputs": [],
   "source": [
    "# агрегированные кумулятивные по дням данные о заказах \n",
    "orders_aggregated = dates_groups.apply(\n",
    "    lambda x: orders[np.logical_and(orders['date'] <= x['date'],\n",
    "                                    orders['group'] == x['group'])]\\\n",
    "    .agg({'date' : 'max',\n",
    "          'group' : 'max',\n",
    "          'transaction_id' : 'nunique',\n",
    "          'visitor_id' : 'nunique',\n",
    "          'revenue' : 'sum'}), axis=1).sort_values(by=['date','group'])"
   ]
  },
  {
   "cell_type": "code",
   "execution_count": 23,
   "metadata": {},
   "outputs": [],
   "source": [
    "# агрегированные кумулятивные по дням данные о посетителях \n",
    "visitors_aggregated = dates_groups.apply(\n",
    "    lambda x: visitors[np.logical_and(visitors['date'] <= x['date'],\n",
    "                                      visitors['group'] == x['group'])]\\\n",
    "    .agg({'date' : 'max',\n",
    "          'group' : 'max',\n",
    "          'visitors' : 'sum'}), axis=1).sort_values(by=['date','group'])"
   ]
  },
  {
   "cell_type": "code",
   "execution_count": 24,
   "metadata": {},
   "outputs": [
    {
     "data": {
      "text/html": [
       "<div>\n",
       "<style scoped>\n",
       "    .dataframe tbody tr th:only-of-type {\n",
       "        vertical-align: middle;\n",
       "    }\n",
       "\n",
       "    .dataframe tbody tr th {\n",
       "        vertical-align: top;\n",
       "    }\n",
       "\n",
       "    .dataframe thead th {\n",
       "        text-align: right;\n",
       "    }\n",
       "</style>\n",
       "<table border=\"1\" class=\"dataframe\">\n",
       "  <thead>\n",
       "    <tr style=\"text-align: right;\">\n",
       "      <th></th>\n",
       "      <th>date</th>\n",
       "      <th>group</th>\n",
       "      <th>orders</th>\n",
       "      <th>buyers</th>\n",
       "      <th>revenue</th>\n",
       "      <th>visitors</th>\n",
       "    </tr>\n",
       "  </thead>\n",
       "  <tbody>\n",
       "    <tr>\n",
       "      <th>0</th>\n",
       "      <td>2019-08-01</td>\n",
       "      <td>A</td>\n",
       "      <td>23</td>\n",
       "      <td>19</td>\n",
       "      <td>142779</td>\n",
       "      <td>719</td>\n",
       "    </tr>\n",
       "    <tr>\n",
       "      <th>1</th>\n",
       "      <td>2019-08-01</td>\n",
       "      <td>B</td>\n",
       "      <td>17</td>\n",
       "      <td>17</td>\n",
       "      <td>59758</td>\n",
       "      <td>713</td>\n",
       "    </tr>\n",
       "    <tr>\n",
       "      <th>2</th>\n",
       "      <td>2019-08-02</td>\n",
       "      <td>A</td>\n",
       "      <td>42</td>\n",
       "      <td>36</td>\n",
       "      <td>234381</td>\n",
       "      <td>1338</td>\n",
       "    </tr>\n",
       "    <tr>\n",
       "      <th>3</th>\n",
       "      <td>2019-08-02</td>\n",
       "      <td>B</td>\n",
       "      <td>40</td>\n",
       "      <td>39</td>\n",
       "      <td>221801</td>\n",
       "      <td>1294</td>\n",
       "    </tr>\n",
       "    <tr>\n",
       "      <th>4</th>\n",
       "      <td>2019-08-03</td>\n",
       "      <td>A</td>\n",
       "      <td>66</td>\n",
       "      <td>60</td>\n",
       "      <td>346854</td>\n",
       "      <td>1845</td>\n",
       "    </tr>\n",
       "  </tbody>\n",
       "</table>\n",
       "</div>"
      ],
      "text/plain": [
       "        date group  orders  buyers  revenue  visitors\n",
       "0 2019-08-01     A      23      19   142779       719\n",
       "1 2019-08-01     B      17      17    59758       713\n",
       "2 2019-08-02     A      42      36   234381      1338\n",
       "3 2019-08-02     B      40      39   221801      1294\n",
       "4 2019-08-03     A      66      60   346854      1845"
      ]
     },
     "execution_count": 24,
     "metadata": {},
     "output_type": "execute_result"
    }
   ],
   "source": [
    "# объединение кумулятивных данных в одну таблицу\n",
    "cumulative_data = orders_aggregated.merge(visitors_aggregated, left_on=['date', 'group'], right_on=['date', 'group'])\n",
    "cumulative_data.columns = ['date', 'group', 'orders', 'buyers', 'revenue', 'visitors']\n",
    "\n",
    "#первые 5 строк\n",
    "cumulative_data.head(5)"
   ]
  },
  {
   "cell_type": "code",
   "execution_count": 25,
   "metadata": {
    "scrolled": false
   },
   "outputs": [
    {
     "data": {
      "text/plain": [
       "(Timestamp('2019-08-01 00:00:00'), Timestamp('2019-08-31 00:00:00'))"
      ]
     },
     "execution_count": 25,
     "metadata": {},
     "output_type": "execute_result"
    }
   ],
   "source": [
    "cumulative_data['date'].min(), cumulative_data['date'].max()"
   ]
  },
  {
   "cell_type": "markdown",
   "metadata": {},
   "source": [
    "Даты совпадают с изначальным датафреймом."
   ]
  },
  {
   "cell_type": "code",
   "execution_count": 26,
   "metadata": {},
   "outputs": [
    {
     "data": {
      "image/png": "[encoded data removed]",
      "text/plain": [
       "<Figure size 432x288 with 1 Axes>"
      ]
     },
     "metadata": {
      "needs_background": "light"
     },
     "output_type": "display_data"
    }
   ],
   "source": [
    "# датафрейм с кумулятивным количеством заказов и кумулятивной выручкой по дням в группе А\n",
    "cumulative_revenue_a = cumulative_data[cumulative_data['group']=='A'][['date','revenue', 'orders']]\n",
    "\n",
    "# датафрейм с кумулятивным количеством заказов и кумулятивной выручкой по дням в группе B\n",
    "cumulative_revenue_b = cumulative_data[cumulative_data['group']=='B'][['date','revenue', 'orders']]\n",
    "\n",
    "# график выручки группы А\n",
    "plt.plot(cumulative_revenue_a['date'], cumulative_revenue_a['revenue'], label='A')\n",
    "\n",
    "# график выручки группы B\n",
    "plt.plot(cumulative_revenue_b['date'], cumulative_revenue_b['revenue'], label='B')\n",
    "\n",
    "plt.title('Кумулятивная выручка по группам') \n",
    "plt.xticks(rotation=90)\n",
    "plt.ylabel('Сумма')\n",
    "plt.xlabel('Дата')\n",
    "plt.legend();"
   ]
  },
  {
   "cell_type": "markdown",
   "metadata": {},
   "source": [
    "Выручка планомерно растет у обоих групп в течении всего теста. Но у группы В присутствует резкий скачок. Вероятно, это связано со всплеском числа заказов, либо с появлением очень дорогих заказов в выборке."
   ]
  },
  {
   "cell_type": "code",
   "execution_count": 27,
   "metadata": {},
   "outputs": [
    {
     "data": {
      "image/png": "[encoded data removed]",
      "text/plain": [
       "<Figure size 432x288 with 1 Axes>"
      ]
     },
     "metadata": {
      "needs_background": "light"
     },
     "output_type": "display_data"
    }
   ],
   "source": [
    "plt.plot(cumulative_revenue_a['date'], cumulative_revenue_a['revenue']/cumulative_revenue_a['orders'], label='A')\n",
    "plt.plot(cumulative_revenue_b['date'], cumulative_revenue_b['revenue']/cumulative_revenue_b['orders'], label='B')\n",
    "\n",
    "plt.title('Кумулятивный средний чек по группам')\n",
    "plt.xticks(rotation=90)\n",
    "plt.xlabel('Дата')\n",
    "plt.ylabel('Средний чек')\n",
    "plt.legend();"
   ]
  },
  {
   "cell_type": "markdown",
   "metadata": {},
   "source": [
    "Распределение среднего чека у группы В неравномерно, также присутствует резкий подъем. Более вероятно, что выбросы связаны с дорогими заказами. У группы А распределение нормализовалось ближе к середине теста."
   ]
  },
  {
   "cell_type": "code",
   "execution_count": 28,
   "metadata": {},
   "outputs": [
    {
     "data": {
      "image/png": "[encoded data removed]",
      "text/plain": [
       "<Figure size 432x288 with 1 Axes>"
      ]
     },
     "metadata": {
      "needs_background": "light"
     },
     "output_type": "display_data"
    }
   ],
   "source": [
    "# данные в одном датафрейме\n",
    "merged_c_revenue = cumulative_revenue_a.merge(\n",
    "                                        cumulative_revenue_b,\n",
    "                                        left_on='date', right_on='date',\n",
    "                                        how='left', suffixes=['A', 'B'])\n",
    "\n",
    "# график отношения средних чеков\n",
    "plt.plot(merged_c_revenue['date'],\n",
    "         (merged_c_revenue['revenueB']/merged_c_revenue['ordersB']\n",
    "         )/(merged_c_revenue['revenueA']/merged_c_revenue['ordersA'])-1)\n",
    "\n",
    "# ось X\n",
    "plt.xticks(rotation=90)\n",
    "plt.axhline(y=0, color='black', linestyle='--')\n",
    "plt.title('Кумулятивное среднее чека группы B к группе A')\n",
    "plt.xlabel('Дата')\n",
    "plt.ylabel('Различие среднего чека');"
   ]
  },
  {
   "cell_type": "markdown",
   "metadata": {},
   "source": [
    "В нескольких точках график различия между сегментами резко поднимается и падает. Это говорит о наличии выбросов в выборке. "
   ]
  },
  {
   "cell_type": "code",
   "execution_count": 29,
   "metadata": {},
   "outputs": [
    {
     "data": {
      "image/png": "[encoded data removed]",
      "text/plain": [
       "<Figure size 432x288 with 1 Axes>"
      ]
     },
     "metadata": {
      "needs_background": "light"
     },
     "output_type": "display_data"
    }
   ],
   "source": [
    "# считаем кумулятивную конверсию\n",
    "cumulative_data['conversion'] = cumulative_data['orders']/cumulative_data['visitors']\n",
    "\n",
    "# отделяем данные по группе A\n",
    "cumulative_data_a = cumulative_data[cumulative_data['group']=='A']\n",
    "\n",
    "# отделяем данные по группе B\n",
    "cumulative_data_b = cumulative_data[cumulative_data['group']=='B']\n",
    "\n",
    "# строим графики\n",
    "plt.plot(cumulative_data_a['date'], cumulative_data_a['conversion'], label='A')\n",
    "plt.plot(cumulative_data_b['date'], cumulative_data_b['conversion'], label='B')\n",
    "\n",
    "plt.title('Кумулятивное среднее количество заказов по группам')\n",
    "plt.xticks(rotation=90)\n",
    "plt.xlabel('Дата')\n",
    "plt.ylabel('Количество заказов')\n",
    "plt.legend();"
   ]
  },
  {
   "cell_type": "markdown",
   "metadata": {},
   "source": [
    "Конверсия группы А после скачка продолжает падать на протяжении всего времени тестирования. Конверсия группы В выше и постепенно нормализуется."
   ]
  },
  {
   "cell_type": "code",
   "execution_count": 30,
   "metadata": {},
   "outputs": [
    {
     "data": {
      "image/png": "[encoded data removed]",
      "text/plain": [
       "<Figure size 432x288 with 1 Axes>"
      ]
     },
     "metadata": {
      "needs_background": "light"
     },
     "output_type": "display_data"
    }
   ],
   "source": [
    "merged_сml_сonversions = cumulative_data_a[['date','conversion']].merge(\n",
    "                                                                cumulative_data_b[['date','conversion']],\n",
    "                                                                left_on='date', right_on='date',\n",
    "                                                                how='left', suffixes=['A', 'B'])\n",
    "\n",
    "plt.plot(merged_сml_сonversions['date'],\n",
    "         merged_сml_сonversions['conversionB']/merged_сml_сonversions['conversionA']-1,\n",
    "         label=\"Относительный прирост конверсии группы B относительно группы A\")\n",
    "\n",
    "plt.legend()\n",
    "\n",
    "plt.axhline(y=0, color='black', linestyle='--')\n",
    "plt.axhline(y=-0.1, color='grey', linestyle='--')\n",
    "plt.title('Кумулятивное среднее количества заказов группы B к группе A')\n",
    "plt.xticks(rotation=90)\n",
    "plt.ylabel('Различие в кол-ве заказов')\n",
    "plt.xlabel('Дата');"
   ]
  },
  {
   "cell_type": "markdown",
   "metadata": {},
   "source": [
    "График различий также говорит о том, что конверсия у группы В выше, чем у группы А."
   ]
  },
  {
   "cell_type": "markdown",
   "metadata": {},
   "source": [
    "### Вывод"
   ]
  },
  {
   "cell_type": "markdown",
   "metadata": {},
   "source": [
    "Анализ графиков показал, что:\n",
    "- Группа А: кумулятивная вырочка постепенно растет, средний чек выровнялся приблизительно к середине теста, однако конверсия падает.\n",
    "- Группа В: выручка и средний чек растут,конверсия высокая. Но присутсвуют резкие скачки, говорящие о наличии либо большого числа заказов, либо о дорогих заказов.\n",
    "\n",
    "Можно сделать вывод, что в выборке есть выбросы, а также большее количество людей в группе В влияет на общую картину. Необходимо проверить датасет и почистить данные."
   ]
  },
  {
   "cell_type": "markdown",
   "metadata": {},
   "source": [
    "### Поиск аномалий в данных <a id='5'></a>"
   ]
  },
  {
   "cell_type": "code",
   "execution_count": 31,
   "metadata": {},
   "outputs": [
    {
     "data": {
      "text/html": [
       "<div>\n",
       "<style scoped>\n",
       "    .dataframe tbody tr th:only-of-type {\n",
       "        vertical-align: middle;\n",
       "    }\n",
       "\n",
       "    .dataframe tbody tr th {\n",
       "        vertical-align: top;\n",
       "    }\n",
       "\n",
       "    .dataframe thead th {\n",
       "        text-align: right;\n",
       "    }\n",
       "</style>\n",
       "<table border=\"1\" class=\"dataframe\">\n",
       "  <thead>\n",
       "    <tr style=\"text-align: right;\">\n",
       "      <th></th>\n",
       "      <th>user_id</th>\n",
       "      <th>orders</th>\n",
       "    </tr>\n",
       "  </thead>\n",
       "  <tbody>\n",
       "    <tr>\n",
       "      <th>908</th>\n",
       "      <td>3967698036</td>\n",
       "      <td>3</td>\n",
       "    </tr>\n",
       "    <tr>\n",
       "      <th>55</th>\n",
       "      <td>249864742</td>\n",
       "      <td>3</td>\n",
       "    </tr>\n",
       "    <tr>\n",
       "      <th>478</th>\n",
       "      <td>2108163459</td>\n",
       "      <td>3</td>\n",
       "    </tr>\n",
       "    <tr>\n",
       "      <th>687</th>\n",
       "      <td>2988190573</td>\n",
       "      <td>3</td>\n",
       "    </tr>\n",
       "    <tr>\n",
       "      <th>890</th>\n",
       "      <td>3908431265</td>\n",
       "      <td>3</td>\n",
       "    </tr>\n",
       "    <tr>\n",
       "      <th>138</th>\n",
       "      <td>611059232</td>\n",
       "      <td>3</td>\n",
       "    </tr>\n",
       "    <tr>\n",
       "      <th>632</th>\n",
       "      <td>2742574263</td>\n",
       "      <td>3</td>\n",
       "    </tr>\n",
       "    <tr>\n",
       "      <th>157</th>\n",
       "      <td>678354126</td>\n",
       "      <td>2</td>\n",
       "    </tr>\n",
       "    <tr>\n",
       "      <th>323</th>\n",
       "      <td>1404560065</td>\n",
       "      <td>2</td>\n",
       "    </tr>\n",
       "    <tr>\n",
       "      <th>452</th>\n",
       "      <td>1985475298</td>\n",
       "      <td>2</td>\n",
       "    </tr>\n",
       "  </tbody>\n",
       "</table>\n",
       "</div>"
      ],
      "text/plain": [
       "        user_id  orders\n",
       "908  3967698036       3\n",
       "55    249864742       3\n",
       "478  2108163459       3\n",
       "687  2988190573       3\n",
       "890  3908431265       3\n",
       "138   611059232       3\n",
       "632  2742574263       3\n",
       "157   678354126       2\n",
       "323  1404560065       2\n",
       "452  1985475298       2"
      ]
     },
     "execution_count": 31,
     "metadata": {},
     "output_type": "execute_result"
    }
   ],
   "source": [
    "# сводная таблица по количеству заказов на пользователя\n",
    "by_users = (\n",
    "    orders.groupby('visitor_id', as_index=False)\n",
    "    .agg({'transaction_id': 'nunique'})\n",
    ")\n",
    "# переименование колонок\n",
    "by_users.columns = ['user_id', 'orders']\n",
    "# просмотр таблицы\n",
    "by_users.sort_values(by='orders', ascending=False).head(10)"
   ]
  },
  {
   "cell_type": "code",
   "execution_count": 32,
   "metadata": {},
   "outputs": [
    {
     "data": {
      "image/png": "[encoded data removed]",
      "text/plain": [
       "<Figure size 432x288 with 1 Axes>"
      ]
     },
     "metadata": {
      "needs_background": "light"
     },
     "output_type": "display_data"
    }
   ],
   "source": [
    "# график распределения количества заказов\n",
    "plt.hist(by_users['orders'])\n",
    "plt.title('Распределение количества заказов')\n",
    "plt.xlabel('Количество заказов')\n",
    "plt.ylabel('Частота');"
   ]
  },
  {
   "cell_type": "markdown",
   "metadata": {},
   "source": [
    "Основная масса покуптелей делает только один заказ. И есть доля тех, кто сделал 2-3 заказа."
   ]
  },
  {
   "cell_type": "code",
   "execution_count": 33,
   "metadata": {},
   "outputs": [
    {
     "data": {
      "image/png": "[encoded data removed]",
      "text/plain": [
       "<Figure size 432x288 with 1 Axes>"
      ]
     },
     "metadata": {
      "needs_background": "light"
     },
     "output_type": "display_data"
    }
   ],
   "source": [
    "# точечный график количества заказов\n",
    "x_values = pd.Series(range(0,len(by_users)))\n",
    "plt.scatter(x_values, by_users['orders'])\n",
    "plt.title('Точечный график количества заказов')    \n",
    "plt.xlabel('Частота')\n",
    "plt.ylabel('Количество заказов');"
   ]
  },
  {
   "cell_type": "markdown",
   "metadata": {},
   "source": [
    " Много пользователей с 2 заказами. Их точная доля не ясна — непонятно, считать ли их аномалиями. Покупателей с 3 заказами гораздо меньше."
   ]
  },
  {
   "cell_type": "code",
   "execution_count": 34,
   "metadata": {},
   "outputs": [
    {
     "data": {
      "text/plain": [
       "array([1., 2.])"
      ]
     },
     "execution_count": 34,
     "metadata": {},
     "output_type": "execute_result"
    }
   ],
   "source": [
    "# подсчет перцентилей\n",
    "np.percentile(by_users['orders'], [95, 99])"
   ]
  },
  {
   "cell_type": "markdown",
   "metadata": {},
   "source": [
    "Не более 1% процента пользователей в выборке сделали больше 2 заказов. Значит верхнюю границу можно провести по 1 заказу и очистить данные от аномалий в 2-3."
   ]
  },
  {
   "cell_type": "code",
   "execution_count": 35,
   "metadata": {},
   "outputs": [
    {
     "data": {
      "image/png": "[encoded data removed]",
      "text/plain": [
       "<Figure size 432x288 with 1 Axes>"
      ]
     },
     "metadata": {
      "needs_background": "light"
     },
     "output_type": "display_data"
    }
   ],
   "source": [
    "# точечный график стоимости заказов\n",
    "x_values = pd.Series(range(0,len(orders['revenue'])))\n",
    "plt.scatter(x_values, orders['revenue'])\n",
    "plt.title('Точечный график стоимости заказов')    \n",
    "plt.xlabel('Частота')\n",
    "plt.ylabel('Стоимость');"
   ]
  },
  {
   "cell_type": "markdown",
   "metadata": {},
   "source": [
    "На графике присутсвуют два выброса. Один из них показывает самый дорогой заказ из свех, что присутствуют в данных."
   ]
  },
  {
   "cell_type": "code",
   "execution_count": 36,
   "metadata": {},
   "outputs": [
    {
     "data": {
      "text/plain": [
       "array([26785., 53904.])"
      ]
     },
     "execution_count": 36,
     "metadata": {},
     "output_type": "execute_result"
    }
   ],
   "source": [
    "np.percentile(orders['revenue'], [95, 99])"
   ]
  },
  {
   "cell_type": "markdown",
   "metadata": {},
   "source": [
    "В датасете не более 5% заказов дороже 26 785 рублей и не более 1% дороже 53 904 рублей. Провести верхнюю границу по стоимости заказов можно по 95 перцентилю."
   ]
  },
  {
   "cell_type": "markdown",
   "metadata": {},
   "source": [
    "### Вывод"
   ]
  },
  {
   "cell_type": "markdown",
   "metadata": {},
   "source": [
    "Анализ аномалий показал:\n",
    "\n",
    "- Не более 1% процента пользователей в выборке сделали больше 2 заказов. Верхнюю границу можно провести по 1 заказу и очистить данные от аномалий в 2-3.\n",
    "- В датасете не более 5% заказов дороже 26 785 рублей и не более 1% дороже 53 904 рублей. Провести верхнюю границу по стоимости заказов можно по 95 перцентилю."
   ]
  },
  {
   "cell_type": "markdown",
   "metadata": {},
   "source": [
    "### Статистическая значимость на \"сырых\" данных <a id='6'></a>"
   ]
  },
  {
   "cell_type": "markdown",
   "metadata": {},
   "source": [
    "Подготовлю данные для подсчета."
   ]
  },
  {
   "cell_type": "code",
   "execution_count": 37,
   "metadata": {},
   "outputs": [],
   "source": [
    "# количество пользователей в выбранную дату в группе A\n",
    "visitors_ad = visitors[visitors['group'] == 'A'][['date', 'visitors']]\n",
    "visitors_ad.columns = ['date', 'visitors_per_date_a']\n",
    "\n",
    "# количество пользователей до выбранной даты включительно в группе A\n",
    "visitors_ac = visitors_ad.apply(\n",
    "    lambda x: visitors_ad[visitors_ad['date'] <= x['date']].agg(\n",
    "        {'date': 'max', 'visitors_per_date_a': 'sum'}\n",
    "    ),\n",
    "    axis=1,\n",
    ")\n",
    "visitors_ac.columns = ['date', 'visitors_ac']"
   ]
  },
  {
   "cell_type": "code",
   "execution_count": 38,
   "metadata": {},
   "outputs": [],
   "source": [
    "# количество заказов в выбранную дату в группе A\n",
    "orders_ad = (\n",
    "    orders[orders['group'] == 'A'][['date', 'transaction_id', 'visitor_id', 'revenue']]\n",
    "    .groupby('date', as_index=False)\n",
    "    .agg({'transaction_id': pd.Series.nunique, 'revenue': 'sum'})\n",
    ")\n",
    "orders_ad.columns = ['date', 'orders_per_date_a', 'revenue_per_date_a']\n",
    "\n",
    "# суммарное число заказов до выбранной даты включительно в группе A\n",
    "orders_ac = orders_ad.apply(\n",
    "    lambda x: orders_ad[orders_ad['date'] <= x['date']].agg(\n",
    "        {'date': 'max', 'orders_per_date_a': 'sum', 'revenue_per_date_a': 'sum'}\n",
    "    ),\n",
    "    axis=1,\n",
    ").sort_values(by=['date'])\n",
    "orders_ac.columns = [\n",
    "    'date',\n",
    "    'orders_ca',\n",
    "    'revenue_ca',\n",
    "]"
   ]
  },
  {
   "cell_type": "code",
   "execution_count": 39,
   "metadata": {},
   "outputs": [],
   "source": [
    "# количество заказов в выбранную дату в группе B\n",
    "visitors_bd = visitors[visitors['group'] == 'B'][['date', 'visitors']]\n",
    "visitors_bd.columns = ['date', 'visitors_per_date_b']\n",
    "\n",
    "# количество пользователей до выбранной даты включительно в группе B\n",
    "visitors_bc = visitors_bd.apply(\n",
    "    lambda x: visitors_bd[visitors_bd['date'] <= x['date']].agg(\n",
    "        {'date': 'max', 'visitors_per_date_b': 'sum'}\n",
    "    ),\n",
    "    axis=1,\n",
    ")\n",
    "visitors_bc.columns = ['date', 'visitors_bc']"
   ]
  },
  {
   "cell_type": "code",
   "execution_count": 40,
   "metadata": {},
   "outputs": [],
   "source": [
    "# количество заказов в выбранную дату в группе B\n",
    "orders_bd = (\n",
    "    orders[orders['group'] == 'B'][['date', 'transaction_id', 'visitor_id', 'revenue']]\n",
    "    .groupby('date', as_index=False)\n",
    "    .agg({'transaction_id': pd.Series.nunique, 'revenue': 'sum'})\n",
    ")\n",
    "orders_bd.columns = ['date', 'orders_per_date_b', 'revenue_per_date_b']\n",
    "\n",
    "# суммарное число заказов до выбранной даты включительно в группе B\n",
    "orders_bc = orders_bd.apply(\n",
    "    lambda x: orders_bd[orders_bd['date'] <= x['date']].agg(\n",
    "        {'date': 'max', 'orders_per_date_b': 'sum', 'revenue_per_date_b': 'sum'}\n",
    "    ),\n",
    "    axis=1,\n",
    ").sort_values(by=['date'])\n",
    "orders_bc.columns = [\n",
    "    'date',\n",
    "    'orders_cb',\n",
    "    'revenue_cb',\n",
    "]"
   ]
  },
  {
   "cell_type": "code",
   "execution_count": 41,
   "metadata": {},
   "outputs": [],
   "source": [
    "# итоговый датасет\n",
    "data = (\n",
    "    orders_ad.merge(\n",
    "        orders_bd, left_on='date', right_on='date', how='left'\n",
    "    )\n",
    "    .merge(orders_ac, left_on='date', right_on='date', how='left')\n",
    "    .merge(orders_bc, left_on='date', right_on='date', how='left')\n",
    "    .merge(visitors_ad, left_on='date', right_on='date', how='left')\n",
    "    .merge(visitors_bd, left_on='date', right_on='date', how='left')\n",
    "    .merge(visitors_ac, left_on='date', right_on='date', how='left')\n",
    "    .merge(visitors_bc, left_on='date', right_on='date', how='left')\n",
    ")"
   ]
  },
  {
   "cell_type": "code",
   "execution_count": 42,
   "metadata": {
    "scrolled": true
   },
   "outputs": [
    {
     "data": {
      "text/html": [
       "<div>\n",
       "<style scoped>\n",
       "    .dataframe tbody tr th:only-of-type {\n",
       "        vertical-align: middle;\n",
       "    }\n",
       "\n",
       "    .dataframe tbody tr th {\n",
       "        vertical-align: top;\n",
       "    }\n",
       "\n",
       "    .dataframe thead th {\n",
       "        text-align: right;\n",
       "    }\n",
       "</style>\n",
       "<table border=\"1\" class=\"dataframe\">\n",
       "  <thead>\n",
       "    <tr style=\"text-align: right;\">\n",
       "      <th></th>\n",
       "      <th>date</th>\n",
       "      <th>orders_per_date_a</th>\n",
       "      <th>revenue_per_date_a</th>\n",
       "      <th>orders_per_date_b</th>\n",
       "      <th>revenue_per_date_b</th>\n",
       "      <th>orders_ca</th>\n",
       "      <th>revenue_ca</th>\n",
       "      <th>orders_cb</th>\n",
       "      <th>revenue_cb</th>\n",
       "      <th>visitors_per_date_a</th>\n",
       "      <th>visitors_per_date_b</th>\n",
       "      <th>visitors_ac</th>\n",
       "      <th>visitors_bc</th>\n",
       "    </tr>\n",
       "  </thead>\n",
       "  <tbody>\n",
       "    <tr>\n",
       "      <th>0</th>\n",
       "      <td>2019-08-01</td>\n",
       "      <td>23</td>\n",
       "      <td>142779</td>\n",
       "      <td>17</td>\n",
       "      <td>59758</td>\n",
       "      <td>23</td>\n",
       "      <td>142779</td>\n",
       "      <td>17</td>\n",
       "      <td>59758</td>\n",
       "      <td>719</td>\n",
       "      <td>713</td>\n",
       "      <td>719</td>\n",
       "      <td>713</td>\n",
       "    </tr>\n",
       "    <tr>\n",
       "      <th>1</th>\n",
       "      <td>2019-08-02</td>\n",
       "      <td>19</td>\n",
       "      <td>91602</td>\n",
       "      <td>23</td>\n",
       "      <td>162043</td>\n",
       "      <td>42</td>\n",
       "      <td>234381</td>\n",
       "      <td>40</td>\n",
       "      <td>221801</td>\n",
       "      <td>619</td>\n",
       "      <td>581</td>\n",
       "      <td>1338</td>\n",
       "      <td>1294</td>\n",
       "    </tr>\n",
       "    <tr>\n",
       "      <th>2</th>\n",
       "      <td>2019-08-03</td>\n",
       "      <td>24</td>\n",
       "      <td>112473</td>\n",
       "      <td>14</td>\n",
       "      <td>67049</td>\n",
       "      <td>66</td>\n",
       "      <td>346854</td>\n",
       "      <td>54</td>\n",
       "      <td>288850</td>\n",
       "      <td>507</td>\n",
       "      <td>509</td>\n",
       "      <td>1845</td>\n",
       "      <td>1803</td>\n",
       "    </tr>\n",
       "    <tr>\n",
       "      <th>3</th>\n",
       "      <td>2019-08-04</td>\n",
       "      <td>11</td>\n",
       "      <td>41176</td>\n",
       "      <td>14</td>\n",
       "      <td>96890</td>\n",
       "      <td>77</td>\n",
       "      <td>388030</td>\n",
       "      <td>68</td>\n",
       "      <td>385740</td>\n",
       "      <td>717</td>\n",
       "      <td>770</td>\n",
       "      <td>2562</td>\n",
       "      <td>2573</td>\n",
       "    </tr>\n",
       "    <tr>\n",
       "      <th>4</th>\n",
       "      <td>2019-08-05</td>\n",
       "      <td>22</td>\n",
       "      <td>86383</td>\n",
       "      <td>21</td>\n",
       "      <td>89908</td>\n",
       "      <td>99</td>\n",
       "      <td>474413</td>\n",
       "      <td>89</td>\n",
       "      <td>475648</td>\n",
       "      <td>756</td>\n",
       "      <td>707</td>\n",
       "      <td>3318</td>\n",
       "      <td>3280</td>\n",
       "    </tr>\n",
       "  </tbody>\n",
       "</table>\n",
       "</div>"
      ],
      "text/plain": [
       "        date  orders_per_date_a  revenue_per_date_a  orders_per_date_b  \\\n",
       "0 2019-08-01                 23              142779                 17   \n",
       "1 2019-08-02                 19               91602                 23   \n",
       "2 2019-08-03                 24              112473                 14   \n",
       "3 2019-08-04                 11               41176                 14   \n",
       "4 2019-08-05                 22               86383                 21   \n",
       "\n",
       "   revenue_per_date_b  orders_ca  revenue_ca  orders_cb  revenue_cb  \\\n",
       "0               59758         23      142779         17       59758   \n",
       "1              162043         42      234381         40      221801   \n",
       "2               67049         66      346854         54      288850   \n",
       "3               96890         77      388030         68      385740   \n",
       "4               89908         99      474413         89      475648   \n",
       "\n",
       "   visitors_per_date_a  visitors_per_date_b  visitors_ac  visitors_bc  \n",
       "0                  719                  713          719          713  \n",
       "1                  619                  581         1338         1294  \n",
       "2                  507                  509         1845         1803  \n",
       "3                  717                  770         2562         2573  \n",
       "4                  756                  707         3318         3280  "
      ]
     },
     "execution_count": 42,
     "metadata": {},
     "output_type": "execute_result"
    }
   ],
   "source": [
    "data.head(5)"
   ]
  },
  {
   "cell_type": "markdown",
   "metadata": {},
   "source": [
    "Создам переменные orders_usA и orders_usB. В них для пользователей, которые заказывали хотя бы 1 раз, будет указано число совершённых заказов."
   ]
  },
  {
   "cell_type": "code",
   "execution_count": 43,
   "metadata": {},
   "outputs": [],
   "source": [
    "# заказы группы А\n",
    "orders_usA = (\n",
    "    orders[orders['group'] == 'A']\n",
    "    .groupby('visitor_id', as_index=False)\n",
    "    .agg({'transaction_id': pd.Series.nunique})\n",
    ")\n",
    "orders_usA.columns = ['user_id', 'orders']"
   ]
  },
  {
   "cell_type": "code",
   "execution_count": 44,
   "metadata": {},
   "outputs": [],
   "source": [
    "# заказы группы В\n",
    "orders_usB = (\n",
    "    orders[orders['group'] == 'B']\n",
    "    .groupby('visitor_id', as_index=False)\n",
    "    .agg({'transaction_id': pd.Series.nunique})\n",
    ")\n",
    "orders_usB.columns = ['user_id', 'orders'] "
   ]
  },
  {
   "cell_type": "markdown",
   "metadata": {},
   "source": [
    "Создам еще две переменные, в которых пользователям из разных групп будет соответствовать количество заказов. Тем, кто не совершал заказы, будут соответствовать нули. "
   ]
  },
  {
   "cell_type": "code",
   "execution_count": 45,
   "metadata": {},
   "outputs": [],
   "source": [
    "# группа А\n",
    "sampleA = pd.concat(\n",
    "    [orders_usA['orders'],\n",
    "     pd.Series(0,\n",
    "               index=np.arange(\n",
    "                   data['visitors_per_date_a'].sum() - len(orders_usA['orders'])\n",
    "               ),\n",
    "               name='orders')],axis=0)"
   ]
  },
  {
   "cell_type": "code",
   "execution_count": 46,
   "metadata": {},
   "outputs": [],
   "source": [
    "# группа В\n",
    "sampleB = pd.concat(\n",
    "    [orders_usB['orders'],\n",
    "     pd.Series(0,\n",
    "               index=np.arange(\n",
    "                   data['visitors_per_date_b'].sum() - len(orders_usB['orders'])\n",
    "               ),\n",
    "               name='orders')],axis=0)"
   ]
  },
  {
   "cell_type": "markdown",
   "metadata": {},
   "source": [
    "**Гипотезы**\n",
    "- Нулевая: различий в среднем количестве заказов между группами нет.\n",
    "- Альтернативная: различия в среднем между группами есть."
   ]
  },
  {
   "cell_type": "code",
   "execution_count": 47,
   "metadata": {},
   "outputs": [
    {
     "name": "stdout",
     "output_type": "stream",
     "text": [
      "P-value: 0.01102\n",
      "Различия между группами: 0.15980\n"
     ]
    }
   ],
   "source": [
    "print('P-value:',\"{0:.5f}\".format(stats.mannwhitneyu(sampleA, sampleB)[1]))\n",
    "\n",
    "print('Различия между группами:',\"{0:.5f}\".format(sampleB.mean() / sampleA.mean() - 1))"
   ]
  },
  {
   "cell_type": "markdown",
   "metadata": {},
   "source": [
    "P-value ниже 0.05. Значит, отвергаем нулевую гипотезу. Среднее колтчество заказов группы B на 16% выше среднего группы A."
   ]
  },
  {
   "cell_type": "markdown",
   "metadata": {},
   "source": [
    "**Гипотезы**\n",
    "- Нулевая: различий в среднем чеке между группами нет.\n",
    "- Альтернативная: различия в среднем между группами есть."
   ]
  },
  {
   "cell_type": "code",
   "execution_count": 48,
   "metadata": {},
   "outputs": [
    {
     "name": "stdout",
     "output_type": "stream",
     "text": [
      "P-value: 0.82949\n",
      "Различия между группами: 0.28660\n"
     ]
    }
   ],
   "source": [
    "print('P-value:','{0:.5f}'.format(\n",
    "    stats.mannwhitneyu(\n",
    "        orders[orders['group']=='A']['revenue'], orders[orders['group']=='B']['revenue'])[1]))\n",
    "\n",
    "print('Различия между группами:','{0:.5f}'.format(\n",
    "    orders[orders['group']=='B']['revenue'].mean()/orders[orders['group']=='A']['revenue'].mean()-1))"
   ]
  },
  {
   "cell_type": "markdown",
   "metadata": {},
   "source": [
    "P-value сильно больше 0.05. Значит, причин отвергать нулевую гипотезу также нет. Но средний чек группы B выше на 28.7% среднего чека группы A."
   ]
  },
  {
   "cell_type": "markdown",
   "metadata": {},
   "source": [
    "Проверю, сколько аномальных пользователей в датасете"
   ]
  },
  {
   "cell_type": "code",
   "execution_count": 49,
   "metadata": {},
   "outputs": [],
   "source": [
    "# переменная с пользователями больше 1 заказа\n",
    "usersWithManyOrders = pd.concat(\n",
    "    [orders_usA[orders_usA['orders'] > np.percentile(orders_usA['orders'], [95, 99])[1]]['user_id'],\n",
    "     orders_usB[orders_usB['orders'] > np.percentile(orders_usB['orders'], [95, 99])[1]]['user_id'],\n",
    "    ],axis=0,)\n",
    "\n",
    "# сумма заказа больше 26 784 руб.\n",
    "usersWithExpensiveOrders = orders[orders['revenue'] > np.percentile(orders['revenue'], [95, 99])[0]]['visitor_id']\n",
    "\n",
    "# объединение таблиц\n",
    "abnormalUsers = (\n",
    "    pd.concat([usersWithManyOrders, usersWithExpensiveOrders], axis=0)\n",
    "    .drop_duplicates()\n",
    "    .sort_values()\n",
    ")"
   ]
  },
  {
   "cell_type": "code",
   "execution_count": 50,
   "metadata": {},
   "outputs": [
    {
     "name": "stdout",
     "output_type": "stream",
     "text": [
      "568     113298937\n",
      "1099    148427295\n",
      "928     204675465\n",
      "33      249864742\n",
      "684     358944393\n",
      "dtype: int64\n",
      "Количество аномальных пользователей: 58\n"
     ]
    }
   ],
   "source": [
    "# первые 5 строчек\n",
    "print(abnormalUsers.head(5))\n",
    "# количество в списке\n",
    "print('Количество аномальных пользователей:',abnormalUsers.shape[0])"
   ]
  },
  {
   "cell_type": "markdown",
   "metadata": {},
   "source": [
    "### Вывод"
   ]
  },
  {
   "cell_type": "markdown",
   "metadata": {},
   "source": [
    "По различиям между **средним количеством заказов**:\n",
    "- P-value ниже 0.05. Значит, отвергаем нулевую гипотезу. Среднее колтчество заказов группы B на 16% выше среднего группы A.\n",
    "\n",
    "По различиям между **средним чеком**:\n",
    "- P-value сильно больше 0.05. Значит, причин отвергать нулевую гипотезу также нет. Но средний чек группы B выше на 28.7% среднего чека группы A.\n",
    "\n",
    "Результаты говорять о том, что при близком среднем чеке у обеих групп, среднее количество заказов у группы В выше.\n",
    "\n",
    "При проверки выбросов было обнаружено 86 аномальных пользователей, которые будут удалены при проведении следующих тестов."
   ]
  },
  {
   "cell_type": "markdown",
   "metadata": {},
   "source": [
    "### \"Очищенные\" данные <a id='7'></a>"
   ]
  },
  {
   "cell_type": "markdown",
   "metadata": {},
   "source": [
    "Перед проведением теста, очищу данные от аномальных пользователей."
   ]
  },
  {
   "cell_type": "code",
   "execution_count": 51,
   "metadata": {},
   "outputs": [],
   "source": [
    "# очищенные данные группы А\n",
    "sampleAFiltered = pd.concat(\n",
    "    [orders_usA[\n",
    "        np.logical_not(\n",
    "            orders_usA['user_id'].isin(abnormalUsers))]['orders'],\n",
    "     pd.Series(0,index=np.arange(\n",
    "         data['visitors_per_date_a'].sum() - len(orders_usA['orders'])\n",
    "     ),name='orders',),],axis=0,)"
   ]
  },
  {
   "cell_type": "code",
   "execution_count": 52,
   "metadata": {},
   "outputs": [],
   "source": [
    "# очищенные данные группы В\n",
    "sampleBFiltered = pd.concat(\n",
    "    [orders_usB[\n",
    "        np.logical_not(\n",
    "            orders_usB['user_id'].isin(abnormalUsers))]['orders'],\n",
    "     pd.Series(0,index=np.arange(\n",
    "         data['visitors_per_date_b'].sum() - len(orders_usB['orders'])),\n",
    "               name='orders'),],axis=0,)"
   ]
  },
  {
   "cell_type": "markdown",
   "metadata": {},
   "source": [
    "**Гипотезы**\n",
    "- Нулевая: различий в среднем количестве заказов между группами нет.\n",
    "- Альтернативная: различия в среднем между группами есть."
   ]
  },
  {
   "cell_type": "code",
   "execution_count": 53,
   "metadata": {},
   "outputs": [
    {
     "name": "stdout",
     "output_type": "stream",
     "text": [
      "0.012\n",
      "0.182\n"
     ]
    }
   ],
   "source": [
    "print('{0:.3f}'.format(stats.mannwhitneyu(sampleAFiltered, sampleBFiltered)[1]))\n",
    "print('{0:.3f}'.format(sampleBFiltered.mean()/sampleAFiltered.mean()-1))"
   ]
  },
  {
   "cell_type": "markdown",
   "metadata": {},
   "source": [
    "После очищения данных, P-value все еще ниже 0.05. Значит, отвергаем нулевую гипотезу. Среднее количество заказов группы B выросло на 1%, что выше среднего группы A на 17%."
   ]
  },
  {
   "cell_type": "markdown",
   "metadata": {},
   "source": [
    "**Гипотезы**\n",
    "- Нулевая: различий в среднем чеке между группами нет.\n",
    "- Альтернативная: различия в среднем между группами есть."
   ]
  },
  {
   "cell_type": "code",
   "execution_count": 54,
   "metadata": {},
   "outputs": [
    {
     "name": "stdout",
     "output_type": "stream",
     "text": [
      "0.646\n",
      "-0.048\n"
     ]
    }
   ],
   "source": [
    "print('{0:.3f}'.format(stats.mannwhitneyu(\n",
    "    orders[np.logical_and(orders['group'] == 'A',\n",
    "                          np.logical_not(orders['visitor_id'].isin(abnormalUsers)),\n",
    "                         )]['revenue'],\n",
    "    orders[np.logical_and(orders['group'] == 'B',\n",
    "                          np.logical_not(orders['visitor_id'].isin(abnormalUsers)),\n",
    "                         )]['revenue'],)[1]))\n",
    "\n",
    "print(\"{0:.3f}\".format(orders[\n",
    "    np.logical_and(orders['group'] == 'B',\n",
    "                   np.logical_not(orders['visitor_id'].isin(abnormalUsers)),\n",
    "                  )]['revenue'].mean() / orders[\n",
    "    np.logical_and(orders['group'] == 'A',\n",
    "                   np.logical_not(\n",
    "                       orders['visitor_id'].isin(abnormalUsers)),\n",
    "                  )]['revenue'].mean() - 1))"
   ]
  },
  {
   "cell_type": "markdown",
   "metadata": {},
   "source": [
    "P-value больше 0.05. Значит, причин отвергать нулевую гипотезу также нет. А средний чек группы B проигрывает среднему чеку группы A на 3%. Т.е. разница незначительна."
   ]
  },
  {
   "cell_type": "markdown",
   "metadata": {},
   "source": [
    "### Вывод"
   ]
  },
  {
   "cell_type": "markdown",
   "metadata": {},
   "source": [
    "После очищения данных от анамалий, результаты тестов практически не изменились.\n",
    "\n",
    "По различиям между **средним количеством заказов**:\n",
    "- После очищения данных, P-value все еще ниже 0.05. Значит, отвергаем нулевую гипотезу. Среднее количество заказов группы B выросло на 1%, что выше среднего группы A на 17%.\n",
    "\n",
    "По различиям между **средним чеком**:\n",
    " - P-value больше 0.05. Значит, причин отвергать нулевую гипотезу также нет. А средний чек группы B проигрывает среднему чеку группы A на 3%. Т.е. разница незначительна."
   ]
  },
  {
   "cell_type": "markdown",
   "metadata": {},
   "source": [
    "- *Примите решение по результатам теста и объясните его. Варианты решений: 1. Остановить тест, зафиксировать победу одной из групп. 2. Остановить тест, зафиксировать отсутствие различий между группами. 3. Продолжить тест.*"
   ]
  },
  {
   "cell_type": "markdown",
   "metadata": {},
   "source": [
    "По результатам проведенных тестов:    \n",
    "- Есть статистически значимые различия по кол-ву заказов между группами как по \"сырым\", так и по \"очищенным данным\"\n",
    "- Нет статистически значимого различия по среднему чеку между группами как по \"сырым\", так и по \"очищенным данным\"\n",
    "\n",
    "Можно сделать вывод, что группы равны по среднему чеку, а группа B лучше группы A по конверсии. Считаю, что тест можно остановить и зафиксировать победу группы В."
   ]
  },
  {
   "cell_type": "markdown",
   "metadata": {},
   "source": [
    "## Общий вывод <a id='8'></a>"
   ]
  },
  {
   "cell_type": "markdown",
   "metadata": {},
   "source": [
    "1. Приоритизация гипотез:\n",
    "\n",
    "После применения фреймворков по приоритизации гипотез, получились такие результаты:\n",
    "\n",
    "- Наиболее перспективные гипотезы по **ICE**:\n",
    "    - Запустить акцию, дающую скидку на товар в день рождения\t\n",
    "    - Добавить два новых канала привлечения трафика, что позволит привлекать на 30% больше пользователей\n",
    "    - Добавить форму подписки на все основные страницы, чтобы собрать базу клиентов для email-рассылок\n",
    "- Наиболее перспективные гипотезы по **RICE**:\n",
    "    - Добавить форму подписки на все основные страницы, чтобы собрать базу клиентов для email-рассылок\n",
    "    - Добавить блоки рекомендаций товаров на сайт интернет магазина, чтобы повысить конверсию и средний чек заказа\n",
    "    - Добавить два новых канала привлечения трафика, что позволит привлекать на 30% больше пользователей\n",
    "\n",
    "Разница в лидирующих гипотезах у метода Rice в том, что параметр *Reach* (скольких пользователей затронет изменение) 8-ой гипотезы равен 1, тогда как у 2-ой он равен 8.\n",
    "\n",
    "2. Анализ А/В теста\n",
    "\n",
    "**Предобработка данных**\n",
    "\n",
    "- Были исправлены форматы даты и удалены пользователи, попавшие в обе группы. Явных дубликатов и пропущенных значений обнаружено не было. Название некоторых колонок были приведены к змеиному стилю. Была обнаружена значительная разница в группах в размере 83 человек. Однако, количество посещений различается незначительно, поэтому разница  в группах не будет являться критичной.\n",
    "\n",
    "**Анализ данных** показал, что:\n",
    "- Группа А: кумулятивная вырочка постепенно растет, средний чек выровнялся приблизительно к середине теста, однако конверсия падает.\n",
    "- Группа В: выручка и средний чек растут,конверсия высокая. Но присутсвуют резкие скачки, говорящие о наличии либо большого числа заказов, либо о дорогих заказов.\n",
    "\n",
    "**Анализ аномалий** показал:\n",
    "\n",
    "- Не более 1% процента пользователей в выборке сделали больше 2 заказов. Верхнюю границу можно провести по 1 заказу и очистить данные от аномалий в 2-3.\n",
    "- В датасете не более 5% заказов дороже 26 785 рублей и не более 1% дороже 53 904 рублей. Провести верхнюю границу по стоимости заказов можно по 95 перцентилю.\n",
    "\n",
    "**Статистическая значимость на сырых данных**\n",
    "\n",
    "По различиям между средним количеством заказов:\n",
    "- P-value ниже 0.05. Значит, отвергаем нулевую гипотезу. Среднее колтчество заказов группы B на 16% выше среднего группы A.\n",
    "\n",
    "По различиям между средним чеком:\n",
    "- P-value сильно больше 0.05. Значит, причин отвергать нулевую гипотезу также нет. Но средний чек группы B выше на 28.7% среднего чека группы A.\n",
    "\n",
    "Результаты говорять о том, что при близком среднем чеке у обеих групп, среднее количество заказов у группы В выше.\n",
    "При проверки выбросов было обнаружено 86 аномальных пользователей, которые были удалены при проведении следующих тестов.\n",
    "\n",
    "**Статистическая значимость на очищеных данных**\n",
    "\n",
    "После очищения данных от анамалий, результаты тестов практически не изменились.\n",
    "\n",
    "По различиям между средним количеством заказов:\n",
    "- После очищения данных, P-value все еще ниже 0.05. Значит, отвергаем нулевую гипотезу. Среднее количество заказов группы B выросло на 1%, что выше среднего группы A на 17%.\n",
    "\n",
    "По различиям между средним чеком:\n",
    " - P-value больше 0.05. Значит, причин отвергать нулевую гипотезу также нет. А средний чек группы B проигрывает среднему чеку группы A на 3%. Т.е. разница незначительна.\n",
    " \n",
    "**Итог**\n",
    "\n",
    "По результатам проведенных тестов:    \n",
    "- Есть статистически значимые различия по кол-ву заказов между группами как по \"сырым\", так и по \"очищенным данным\"\n",
    "- Нет статистически значимого различия по среднему чеку между группами как по \"сырым\", так и по \"очищенным данным\"\n",
    "\n",
    "Можно сделать вывод, что группы равны по среднему чеку, а группа B лучше группы A по конверсии. Считаю, что тест можно остановить и зафиксировать победу группы В."
   ]
  }
 ],
 "metadata": {
  "ExecuteTimeLog": [
   {
    "duration": 420,
    "start_time": "2022-10-26T14:21:58.025Z"
   },
   {
    "duration": 62,
    "start_time": "2022-10-26T14:27:34.956Z"
   },
   {
    "duration": 18,
    "start_time": "2022-10-26T14:27:52.184Z"
   },
   {
    "duration": 3,
    "start_time": "2022-10-26T14:28:46.487Z"
   },
   {
    "duration": 8,
    "start_time": "2022-10-26T14:29:36.079Z"
   },
   {
    "duration": 10,
    "start_time": "2022-10-26T14:31:40.605Z"
   },
   {
    "duration": 8,
    "start_time": "2022-10-26T14:31:47.931Z"
   },
   {
    "duration": 846,
    "start_time": "2022-10-26T14:36:26.005Z"
   },
   {
    "duration": 13,
    "start_time": "2022-10-26T14:36:48.313Z"
   },
   {
    "duration": 7,
    "start_time": "2022-10-26T14:36:54.770Z"
   },
   {
    "duration": 14,
    "start_time": "2022-10-26T14:37:20.495Z"
   },
   {
    "duration": 15,
    "start_time": "2022-10-26T14:37:37.577Z"
   },
   {
    "duration": 10,
    "start_time": "2022-10-26T14:40:03.183Z"
   },
   {
    "duration": 4,
    "start_time": "2022-10-26T14:44:20.593Z"
   },
   {
    "duration": 13,
    "start_time": "2022-10-26T14:44:23.749Z"
   },
   {
    "duration": 11,
    "start_time": "2022-10-26T14:45:31.643Z"
   },
   {
    "duration": 854,
    "start_time": "2022-10-26T15:01:02.862Z"
   },
   {
    "duration": 3,
    "start_time": "2022-10-26T15:01:17.717Z"
   },
   {
    "duration": 2,
    "start_time": "2022-10-26T15:01:20.132Z"
   },
   {
    "duration": 536,
    "start_time": "2022-10-26T15:05:05.653Z"
   },
   {
    "duration": 49,
    "start_time": "2022-10-26T15:05:17.602Z"
   },
   {
    "duration": 101,
    "start_time": "2022-10-26T15:05:47.434Z"
   },
   {
    "duration": 8,
    "start_time": "2022-10-26T15:06:14.632Z"
   },
   {
    "duration": 3,
    "start_time": "2022-10-26T15:08:08.979Z"
   },
   {
    "duration": 8,
    "start_time": "2022-10-26T15:08:17.666Z"
   },
   {
    "duration": 2,
    "start_time": "2022-10-26T15:08:44.147Z"
   },
   {
    "duration": 13,
    "start_time": "2022-10-26T15:08:46.660Z"
   },
   {
    "duration": 3,
    "start_time": "2022-10-26T15:09:54.410Z"
   },
   {
    "duration": 12,
    "start_time": "2022-10-26T15:09:56.536Z"
   },
   {
    "duration": 4,
    "start_time": "2022-10-26T15:11:42.661Z"
   },
   {
    "duration": 31,
    "start_time": "2022-10-26T15:11:44.549Z"
   },
   {
    "duration": 3,
    "start_time": "2022-10-26T15:12:03.748Z"
   },
   {
    "duration": 35,
    "start_time": "2022-10-26T15:12:07.448Z"
   },
   {
    "duration": 38,
    "start_time": "2022-10-26T15:12:22.149Z"
   },
   {
    "duration": 4,
    "start_time": "2022-10-26T15:14:42.370Z"
   },
   {
    "duration": 64,
    "start_time": "2022-10-26T15:14:44.601Z"
   },
   {
    "duration": 4,
    "start_time": "2022-10-26T15:14:54.361Z"
   },
   {
    "duration": 54,
    "start_time": "2022-10-26T15:14:56.163Z"
   },
   {
    "duration": 4,
    "start_time": "2022-10-26T15:15:53.326Z"
   },
   {
    "duration": 37,
    "start_time": "2022-10-26T15:15:55.201Z"
   },
   {
    "duration": 4,
    "start_time": "2022-10-26T15:16:09.063Z"
   },
   {
    "duration": 39,
    "start_time": "2022-10-26T15:16:10.525Z"
   },
   {
    "duration": 3,
    "start_time": "2022-10-26T15:16:57.751Z"
   },
   {
    "duration": 44,
    "start_time": "2022-10-26T15:17:01.089Z"
   },
   {
    "duration": 4,
    "start_time": "2022-10-26T15:18:26.851Z"
   },
   {
    "duration": 30,
    "start_time": "2022-10-26T15:18:28.764Z"
   },
   {
    "duration": 4,
    "start_time": "2022-10-26T15:18:48.738Z"
   },
   {
    "duration": 4,
    "start_time": "2022-10-26T15:19:10.063Z"
   },
   {
    "duration": 36,
    "start_time": "2022-10-26T15:19:12.502Z"
   },
   {
    "duration": 4,
    "start_time": "2022-10-26T15:19:27.901Z"
   },
   {
    "duration": 37,
    "start_time": "2022-10-26T15:19:29.852Z"
   },
   {
    "duration": 30,
    "start_time": "2022-10-26T15:22:07.962Z"
   },
   {
    "duration": 1294,
    "start_time": "2022-10-27T10:55:54.880Z"
   },
   {
    "duration": 62,
    "start_time": "2022-10-27T10:55:56.176Z"
   },
   {
    "duration": 12,
    "start_time": "2022-10-27T10:55:56.240Z"
   },
   {
    "duration": 13,
    "start_time": "2022-10-27T10:55:56.253Z"
   },
   {
    "duration": 12,
    "start_time": "2022-10-27T10:55:56.268Z"
   },
   {
    "duration": 134,
    "start_time": "2022-10-27T10:55:56.282Z"
   },
   {
    "duration": 4,
    "start_time": "2022-10-27T10:55:56.417Z"
   },
   {
    "duration": 78,
    "start_time": "2022-10-27T10:55:56.422Z"
   },
   {
    "duration": 31,
    "start_time": "2022-10-27T10:55:56.502Z"
   },
   {
    "duration": 1302,
    "start_time": "2022-10-28T14:31:12.843Z"
   },
   {
    "duration": 63,
    "start_time": "2022-10-28T14:31:14.147Z"
   },
   {
    "duration": 22,
    "start_time": "2022-10-28T14:31:14.212Z"
   },
   {
    "duration": 19,
    "start_time": "2022-10-28T14:31:14.236Z"
   },
   {
    "duration": 13,
    "start_time": "2022-10-28T14:31:14.257Z"
   },
   {
    "duration": 149,
    "start_time": "2022-10-28T14:31:14.272Z"
   },
   {
    "duration": 5,
    "start_time": "2022-10-28T14:31:14.422Z"
   },
   {
    "duration": 100,
    "start_time": "2022-10-28T14:31:14.435Z"
   },
   {
    "duration": 33,
    "start_time": "2022-10-28T14:31:14.536Z"
   },
   {
    "duration": 4,
    "start_time": "2022-10-28T14:35:00.556Z"
   },
   {
    "duration": 115,
    "start_time": "2022-10-28T14:35:47.661Z"
   },
   {
    "duration": 12,
    "start_time": "2022-10-28T14:35:54.845Z"
   },
   {
    "duration": 5,
    "start_time": "2022-10-28T14:35:59.562Z"
   },
   {
    "duration": 19,
    "start_time": "2022-10-28T14:36:04.612Z"
   },
   {
    "duration": 8,
    "start_time": "2022-10-28T14:36:10.568Z"
   },
   {
    "duration": 11,
    "start_time": "2022-10-28T14:36:14.287Z"
   },
   {
    "duration": 3,
    "start_time": "2022-10-28T14:38:55.112Z"
   },
   {
    "duration": 6,
    "start_time": "2022-10-28T14:47:37.245Z"
   },
   {
    "duration": 5,
    "start_time": "2022-10-28T14:48:08.300Z"
   },
   {
    "duration": 13,
    "start_time": "2022-10-28T14:49:06.991Z"
   },
   {
    "duration": 6,
    "start_time": "2022-10-28T14:49:12.467Z"
   },
   {
    "duration": 8,
    "start_time": "2022-10-28T14:49:14.956Z"
   },
   {
    "duration": 4,
    "start_time": "2022-10-28T14:49:19.744Z"
   },
   {
    "duration": 13,
    "start_time": "2022-10-28T14:49:40.043Z"
   },
   {
    "duration": 3,
    "start_time": "2022-10-28T14:49:54.206Z"
   },
   {
    "duration": 53,
    "start_time": "2022-10-28T14:51:34.855Z"
   },
   {
    "duration": 11,
    "start_time": "2022-10-28T14:51:39.818Z"
   },
   {
    "duration": 6,
    "start_time": "2022-10-28T14:52:10.044Z"
   },
   {
    "duration": 124,
    "start_time": "2022-10-28T14:52:15.644Z"
   },
   {
    "duration": 4,
    "start_time": "2022-10-28T14:52:22.893Z"
   },
   {
    "duration": 9,
    "start_time": "2022-10-28T14:52:47.918Z"
   },
   {
    "duration": 5,
    "start_time": "2022-10-28T14:53:01.667Z"
   },
   {
    "duration": 42,
    "start_time": "2022-10-28T14:55:36.845Z"
   },
   {
    "duration": 5,
    "start_time": "2022-10-28T14:55:42.370Z"
   },
   {
    "duration": 3,
    "start_time": "2022-10-28T15:00:47.614Z"
   },
   {
    "duration": 3,
    "start_time": "2022-10-28T15:00:56.599Z"
   },
   {
    "duration": 4,
    "start_time": "2022-10-28T15:01:19.435Z"
   },
   {
    "duration": 5,
    "start_time": "2022-10-28T15:02:36.539Z"
   },
   {
    "duration": 5,
    "start_time": "2022-10-28T15:02:47.934Z"
   },
   {
    "duration": 63,
    "start_time": "2022-10-28T15:04:02.000Z"
   },
   {
    "duration": 53,
    "start_time": "2022-10-28T15:04:08.661Z"
   },
   {
    "duration": 68,
    "start_time": "2022-10-28T15:04:37.973Z"
   },
   {
    "duration": 42,
    "start_time": "2022-10-28T15:05:17.974Z"
   },
   {
    "duration": 5,
    "start_time": "2022-10-28T15:05:56.163Z"
   },
   {
    "duration": 60,
    "start_time": "2022-10-28T15:06:20.513Z"
   },
   {
    "duration": 4,
    "start_time": "2022-10-28T15:06:28.613Z"
   },
   {
    "duration": 7,
    "start_time": "2022-10-28T15:06:52.399Z"
   },
   {
    "duration": 8,
    "start_time": "2022-10-28T15:10:05.851Z"
   },
   {
    "duration": 5,
    "start_time": "2022-10-28T15:10:25.002Z"
   },
   {
    "duration": 5,
    "start_time": "2022-10-28T15:10:37.636Z"
   },
   {
    "duration": 11,
    "start_time": "2022-10-28T15:11:18.115Z"
   },
   {
    "duration": 4,
    "start_time": "2022-10-28T15:16:25.779Z"
   },
   {
    "duration": 251,
    "start_time": "2022-10-28T15:19:35.292Z"
   },
   {
    "duration": 340,
    "start_time": "2022-10-28T15:19:43.105Z"
   },
   {
    "duration": 1074,
    "start_time": "2022-10-28T15:19:59.060Z"
   },
   {
    "duration": 29,
    "start_time": "2022-10-28T15:20:00.136Z"
   },
   {
    "duration": 10,
    "start_time": "2022-10-28T15:20:00.166Z"
   },
   {
    "duration": 56,
    "start_time": "2022-10-28T15:20:00.178Z"
   },
   {
    "duration": 27,
    "start_time": "2022-10-28T15:20:00.235Z"
   },
   {
    "duration": 70,
    "start_time": "2022-10-28T15:20:00.264Z"
   },
   {
    "duration": 4,
    "start_time": "2022-10-28T15:20:00.336Z"
   },
   {
    "duration": 108,
    "start_time": "2022-10-28T15:20:00.342Z"
   },
   {
    "duration": 331,
    "start_time": "2022-10-28T15:20:00.452Z"
   },
   {
    "duration": 0,
    "start_time": "2022-10-28T15:20:00.785Z"
   },
   {
    "duration": 0,
    "start_time": "2022-10-28T15:20:00.786Z"
   },
   {
    "duration": 0,
    "start_time": "2022-10-28T15:20:00.787Z"
   },
   {
    "duration": 0,
    "start_time": "2022-10-28T15:20:00.788Z"
   },
   {
    "duration": 0,
    "start_time": "2022-10-28T15:20:00.789Z"
   },
   {
    "duration": 0,
    "start_time": "2022-10-28T15:20:00.791Z"
   },
   {
    "duration": 0,
    "start_time": "2022-10-28T15:20:00.792Z"
   },
   {
    "duration": 219,
    "start_time": "2022-10-28T15:20:17.534Z"
   },
   {
    "duration": 8,
    "start_time": "2022-10-28T15:20:36.617Z"
   },
   {
    "duration": 1134,
    "start_time": "2022-10-28T15:20:44.739Z"
   },
   {
    "duration": 27,
    "start_time": "2022-10-28T15:20:45.875Z"
   },
   {
    "duration": 11,
    "start_time": "2022-10-28T15:20:45.904Z"
   },
   {
    "duration": 16,
    "start_time": "2022-10-28T15:20:45.916Z"
   },
   {
    "duration": 20,
    "start_time": "2022-10-28T15:20:45.934Z"
   },
   {
    "duration": 54,
    "start_time": "2022-10-28T15:20:45.956Z"
   },
   {
    "duration": 4,
    "start_time": "2022-10-28T15:20:46.011Z"
   },
   {
    "duration": 101,
    "start_time": "2022-10-28T15:20:46.016Z"
   },
   {
    "duration": 11,
    "start_time": "2022-10-28T15:20:46.119Z"
   },
   {
    "duration": 47,
    "start_time": "2022-10-28T15:20:46.131Z"
   },
   {
    "duration": 12,
    "start_time": "2022-10-28T15:20:46.180Z"
   },
   {
    "duration": 10,
    "start_time": "2022-10-28T15:20:46.194Z"
   },
   {
    "duration": 7,
    "start_time": "2022-10-28T15:20:46.206Z"
   },
   {
    "duration": 8,
    "start_time": "2022-10-28T15:20:46.215Z"
   },
   {
    "duration": 11,
    "start_time": "2022-10-28T15:20:46.229Z"
   },
   {
    "duration": 8,
    "start_time": "2022-10-28T15:20:46.241Z"
   },
   {
    "duration": 6,
    "start_time": "2022-10-28T15:24:14.191Z"
   },
   {
    "duration": 97,
    "start_time": "2022-10-28T15:25:04.242Z"
   },
   {
    "duration": 155,
    "start_time": "2022-10-28T15:25:15.954Z"
   },
   {
    "duration": 117,
    "start_time": "2022-10-28T15:26:23.392Z"
   },
   {
    "duration": 22,
    "start_time": "2022-10-28T15:26:54.309Z"
   },
   {
    "duration": 12,
    "start_time": "2022-10-28T15:27:09.371Z"
   },
   {
    "duration": 12,
    "start_time": "2022-10-28T15:29:27.397Z"
   },
   {
    "duration": 12,
    "start_time": "2022-10-28T15:32:55.687Z"
   },
   {
    "duration": 9,
    "start_time": "2022-10-28T15:33:24.548Z"
   },
   {
    "duration": 13,
    "start_time": "2022-10-28T15:33:26.187Z"
   },
   {
    "duration": 4,
    "start_time": "2022-10-28T15:33:43.396Z"
   },
   {
    "duration": 254,
    "start_time": "2022-10-28T15:33:55.448Z"
   },
   {
    "duration": 181,
    "start_time": "2022-10-28T15:34:00.938Z"
   },
   {
    "duration": 168,
    "start_time": "2022-10-28T15:34:06.734Z"
   },
   {
    "duration": 172,
    "start_time": "2022-10-28T15:34:10.640Z"
   },
   {
    "duration": 203,
    "start_time": "2022-10-28T15:37:08.734Z"
   },
   {
    "duration": 168,
    "start_time": "2022-10-28T15:37:12.935Z"
   },
   {
    "duration": 276,
    "start_time": "2022-10-28T15:40:42.189Z"
   },
   {
    "duration": 321,
    "start_time": "2022-10-28T15:40:45.764Z"
   },
   {
    "duration": 259,
    "start_time": "2022-10-28T15:41:27.876Z"
   },
   {
    "duration": 4,
    "start_time": "2022-10-28T15:45:53.102Z"
   },
   {
    "duration": 5,
    "start_time": "2022-10-28T15:46:04.116Z"
   },
   {
    "duration": 5,
    "start_time": "2022-10-28T15:46:44.979Z"
   },
   {
    "duration": 169,
    "start_time": "2022-10-28T15:49:12.892Z"
   },
   {
    "duration": 162,
    "start_time": "2022-10-28T15:49:16.492Z"
   },
   {
    "duration": 179,
    "start_time": "2022-10-28T15:50:21.808Z"
   },
   {
    "duration": 162,
    "start_time": "2022-10-28T15:50:33.030Z"
   },
   {
    "duration": 169,
    "start_time": "2022-10-28T15:50:44.631Z"
   },
   {
    "duration": 171,
    "start_time": "2022-10-28T15:50:53.644Z"
   },
   {
    "duration": 285,
    "start_time": "2022-10-28T15:59:10.139Z"
   },
   {
    "duration": 298,
    "start_time": "2022-10-28T15:59:16.422Z"
   },
   {
    "duration": 1512,
    "start_time": "2022-10-29T13:23:17.615Z"
   },
   {
    "duration": 76,
    "start_time": "2022-10-29T13:23:19.129Z"
   },
   {
    "duration": 13,
    "start_time": "2022-10-29T13:23:19.207Z"
   },
   {
    "duration": 14,
    "start_time": "2022-10-29T13:23:19.223Z"
   },
   {
    "duration": 19,
    "start_time": "2022-10-29T13:23:19.240Z"
   },
   {
    "duration": 187,
    "start_time": "2022-10-29T13:23:19.263Z"
   },
   {
    "duration": 8,
    "start_time": "2022-10-29T13:23:19.452Z"
   },
   {
    "duration": 128,
    "start_time": "2022-10-29T13:23:19.463Z"
   },
   {
    "duration": 6,
    "start_time": "2022-10-29T13:23:19.593Z"
   },
   {
    "duration": 70,
    "start_time": "2022-10-29T13:23:19.602Z"
   },
   {
    "duration": 9,
    "start_time": "2022-10-29T13:23:19.674Z"
   },
   {
    "duration": 16,
    "start_time": "2022-10-29T13:23:19.685Z"
   },
   {
    "duration": 29,
    "start_time": "2022-10-29T13:23:19.702Z"
   },
   {
    "duration": 22,
    "start_time": "2022-10-29T13:23:19.733Z"
   },
   {
    "duration": 34,
    "start_time": "2022-10-29T13:23:19.757Z"
   },
   {
    "duration": 22,
    "start_time": "2022-10-29T13:23:19.793Z"
   },
   {
    "duration": 22,
    "start_time": "2022-10-29T13:23:19.817Z"
   },
   {
    "duration": 48,
    "start_time": "2022-10-29T13:23:19.841Z"
   },
   {
    "duration": 206,
    "start_time": "2022-10-29T13:23:19.891Z"
   },
   {
    "duration": 137,
    "start_time": "2022-10-29T13:23:20.099Z"
   },
   {
    "duration": 21,
    "start_time": "2022-10-29T13:23:20.238Z"
   },
   {
    "duration": 311,
    "start_time": "2022-10-29T13:23:20.261Z"
   },
   {
    "duration": 216,
    "start_time": "2022-10-29T13:23:20.574Z"
   },
   {
    "duration": 376,
    "start_time": "2022-10-29T13:23:20.793Z"
   },
   {
    "duration": 198,
    "start_time": "2022-10-29T13:23:21.173Z"
   },
   {
    "duration": 341,
    "start_time": "2022-10-29T13:23:21.373Z"
   },
   {
    "duration": 781,
    "start_time": "2022-10-29T13:45:52.214Z"
   },
   {
    "duration": 133,
    "start_time": "2022-10-29T13:46:42.815Z"
   },
   {
    "duration": 136,
    "start_time": "2022-10-29T13:46:48.402Z"
   },
   {
    "duration": 224,
    "start_time": "2022-10-29T13:48:24.765Z"
   },
   {
    "duration": 144,
    "start_time": "2022-10-29T13:48:31.664Z"
   },
   {
    "duration": 124,
    "start_time": "2022-10-29T13:50:20.666Z"
   },
   {
    "duration": 129,
    "start_time": "2022-10-29T13:51:54.093Z"
   },
   {
    "duration": 9,
    "start_time": "2022-10-29T13:52:14.905Z"
   },
   {
    "duration": 20,
    "start_time": "2022-10-29T13:55:38.294Z"
   },
   {
    "duration": 15,
    "start_time": "2022-10-29T13:55:53.306Z"
   },
   {
    "duration": 12,
    "start_time": "2022-10-29T13:56:07.006Z"
   },
   {
    "duration": 144,
    "start_time": "2022-10-29T13:57:37.644Z"
   },
   {
    "duration": 131,
    "start_time": "2022-10-29T13:57:42.745Z"
   },
   {
    "duration": 159,
    "start_time": "2022-10-29T13:59:33.995Z"
   },
   {
    "duration": 142,
    "start_time": "2022-10-29T13:59:38.790Z"
   },
   {
    "duration": 6,
    "start_time": "2022-10-29T14:06:57.774Z"
   },
   {
    "duration": 5,
    "start_time": "2022-10-29T14:07:31.069Z"
   },
   {
    "duration": 48,
    "start_time": "2022-10-29T14:08:43.724Z"
   },
   {
    "duration": 126,
    "start_time": "2022-10-29T14:11:13.062Z"
   },
   {
    "duration": 128,
    "start_time": "2022-10-29T14:12:16.538Z"
   },
   {
    "duration": 136,
    "start_time": "2022-10-29T14:12:22.601Z"
   },
   {
    "duration": 7,
    "start_time": "2022-10-29T14:13:29.339Z"
   },
   {
    "duration": 44,
    "start_time": "2022-10-29T14:15:29.478Z"
   },
   {
    "duration": 187,
    "start_time": "2022-10-29T14:21:42.108Z"
   },
   {
    "duration": 113,
    "start_time": "2022-10-29T14:22:57.044Z"
   },
   {
    "duration": 10,
    "start_time": "2022-10-29T14:23:42.371Z"
   },
   {
    "duration": 10,
    "start_time": "2022-10-29T14:24:00.682Z"
   },
   {
    "duration": 119,
    "start_time": "2022-10-29T14:32:00.755Z"
   },
   {
    "duration": 173,
    "start_time": "2022-10-29T14:32:44.062Z"
   },
   {
    "duration": 225,
    "start_time": "2022-10-29T14:33:12.400Z"
   },
   {
    "duration": 237,
    "start_time": "2022-10-29T14:35:45.169Z"
   },
   {
    "duration": 31,
    "start_time": "2022-10-29T14:40:43.814Z"
   },
   {
    "duration": 27,
    "start_time": "2022-10-29T14:40:49.996Z"
   },
   {
    "duration": 12,
    "start_time": "2022-10-29T14:40:52.638Z"
   },
   {
    "duration": 70,
    "start_time": "2022-10-29T14:41:00.564Z"
   },
   {
    "duration": 1184,
    "start_time": "2022-10-29T14:41:28.447Z"
   },
   {
    "duration": 28,
    "start_time": "2022-10-29T14:41:29.633Z"
   },
   {
    "duration": 12,
    "start_time": "2022-10-29T14:41:29.663Z"
   },
   {
    "duration": 13,
    "start_time": "2022-10-29T14:41:29.677Z"
   },
   {
    "duration": 12,
    "start_time": "2022-10-29T14:41:29.692Z"
   },
   {
    "duration": 54,
    "start_time": "2022-10-29T14:41:29.706Z"
   },
   {
    "duration": 4,
    "start_time": "2022-10-29T14:41:29.762Z"
   },
   {
    "duration": 91,
    "start_time": "2022-10-29T14:41:29.768Z"
   },
   {
    "duration": 7,
    "start_time": "2022-10-29T14:41:29.861Z"
   },
   {
    "duration": 41,
    "start_time": "2022-10-29T14:41:29.870Z"
   },
   {
    "duration": 5,
    "start_time": "2022-10-29T14:41:29.912Z"
   },
   {
    "duration": 40,
    "start_time": "2022-10-29T14:41:29.918Z"
   },
   {
    "duration": 14,
    "start_time": "2022-10-29T14:41:29.960Z"
   },
   {
    "duration": 7,
    "start_time": "2022-10-29T14:41:29.976Z"
   },
   {
    "duration": 10,
    "start_time": "2022-10-29T14:41:29.985Z"
   },
   {
    "duration": 20,
    "start_time": "2022-10-29T14:41:29.997Z"
   },
   {
    "duration": 34,
    "start_time": "2022-10-29T14:41:30.018Z"
   },
   {
    "duration": 19,
    "start_time": "2022-10-29T14:41:30.054Z"
   },
   {
    "duration": 190,
    "start_time": "2022-10-29T14:41:30.075Z"
   },
   {
    "duration": 136,
    "start_time": "2022-10-29T14:41:30.267Z"
   },
   {
    "duration": 14,
    "start_time": "2022-10-29T14:41:30.405Z"
   },
   {
    "duration": 366,
    "start_time": "2022-10-29T14:41:30.421Z"
   },
   {
    "duration": 197,
    "start_time": "2022-10-29T14:41:30.788Z"
   },
   {
    "duration": 255,
    "start_time": "2022-10-29T14:41:30.986Z"
   },
   {
    "duration": 212,
    "start_time": "2022-10-29T14:41:31.243Z"
   },
   {
    "duration": 355,
    "start_time": "2022-10-29T14:41:31.457Z"
   },
   {
    "duration": 13,
    "start_time": "2022-10-29T14:41:31.814Z"
   },
   {
    "duration": 144,
    "start_time": "2022-10-29T14:41:31.830Z"
   },
   {
    "duration": 138,
    "start_time": "2022-10-29T14:41:31.977Z"
   },
   {
    "duration": 5,
    "start_time": "2022-10-29T14:41:32.116Z"
   },
   {
    "duration": 239,
    "start_time": "2022-10-29T14:41:32.122Z"
   },
   {
    "duration": 6,
    "start_time": "2022-10-29T14:41:32.362Z"
   },
   {
    "duration": 23,
    "start_time": "2022-10-29T14:41:32.370Z"
   },
   {
    "duration": 21,
    "start_time": "2022-10-29T14:41:32.396Z"
   },
   {
    "duration": 74,
    "start_time": "2022-10-29T14:41:32.419Z"
   },
   {
    "duration": 72,
    "start_time": "2022-10-29T14:41:32.495Z"
   },
   {
    "duration": 47,
    "start_time": "2022-10-29T14:41:32.569Z"
   },
   {
    "duration": 103,
    "start_time": "2022-10-29T14:41:32.619Z"
   },
   {
    "duration": 20,
    "start_time": "2022-10-29T14:41:32.724Z"
   },
   {
    "duration": 17,
    "start_time": "2022-10-29T14:41:32.745Z"
   },
   {
    "duration": 167,
    "start_time": "2022-10-29T14:50:10.487Z"
   },
   {
    "duration": 832,
    "start_time": "2022-10-29T14:51:40.761Z"
   },
   {
    "duration": 6,
    "start_time": "2022-10-29T14:52:15.850Z"
   },
   {
    "duration": 5,
    "start_time": "2022-10-29T14:52:41.087Z"
   },
   {
    "duration": 5,
    "start_time": "2022-10-29T14:53:35.490Z"
   },
   {
    "duration": 5,
    "start_time": "2022-10-29T14:53:39.888Z"
   },
   {
    "duration": 10,
    "start_time": "2022-10-29T14:54:11.714Z"
   },
   {
    "duration": 3,
    "start_time": "2022-10-29T14:54:44.352Z"
   },
   {
    "duration": 22,
    "start_time": "2022-10-29T14:54:52.476Z"
   },
   {
    "duration": 12,
    "start_time": "2022-10-29T15:01:48.281Z"
   },
   {
    "duration": 16,
    "start_time": "2022-10-29T15:02:33.156Z"
   },
   {
    "duration": 1264,
    "start_time": "2022-10-30T12:25:41.936Z"
   },
   {
    "duration": 74,
    "start_time": "2022-10-30T12:25:43.202Z"
   },
   {
    "duration": 12,
    "start_time": "2022-10-30T12:25:43.277Z"
   },
   {
    "duration": 11,
    "start_time": "2022-10-30T12:25:43.291Z"
   },
   {
    "duration": 12,
    "start_time": "2022-10-30T12:25:43.304Z"
   },
   {
    "duration": 136,
    "start_time": "2022-10-30T12:25:43.317Z"
   },
   {
    "duration": 4,
    "start_time": "2022-10-30T12:25:43.455Z"
   },
   {
    "duration": 77,
    "start_time": "2022-10-30T12:25:43.461Z"
   },
   {
    "duration": 6,
    "start_time": "2022-10-30T12:25:43.540Z"
   },
   {
    "duration": 58,
    "start_time": "2022-10-30T12:25:43.550Z"
   },
   {
    "duration": 4,
    "start_time": "2022-10-30T12:25:43.609Z"
   },
   {
    "duration": 11,
    "start_time": "2022-10-30T12:25:43.614Z"
   },
   {
    "duration": 21,
    "start_time": "2022-10-30T12:25:43.626Z"
   },
   {
    "duration": 9,
    "start_time": "2022-10-30T12:25:43.648Z"
   },
   {
    "duration": 20,
    "start_time": "2022-10-30T12:25:43.658Z"
   },
   {
    "duration": 9,
    "start_time": "2022-10-30T12:25:43.680Z"
   },
   {
    "duration": 19,
    "start_time": "2022-10-30T12:25:43.691Z"
   },
   {
    "duration": 13,
    "start_time": "2022-10-30T12:25:43.711Z"
   },
   {
    "duration": 172,
    "start_time": "2022-10-30T12:25:43.726Z"
   },
   {
    "duration": 127,
    "start_time": "2022-10-30T12:25:43.900Z"
   },
   {
    "duration": 17,
    "start_time": "2022-10-30T12:25:44.029Z"
   },
   {
    "duration": 259,
    "start_time": "2022-10-30T12:25:44.048Z"
   },
   {
    "duration": 168,
    "start_time": "2022-10-30T12:25:44.309Z"
   },
   {
    "duration": 286,
    "start_time": "2022-10-30T12:25:44.479Z"
   },
   {
    "duration": 164,
    "start_time": "2022-10-30T12:25:44.777Z"
   },
   {
    "duration": 318,
    "start_time": "2022-10-30T12:25:44.942Z"
   },
   {
    "duration": 18,
    "start_time": "2022-10-30T12:25:45.262Z"
   },
   {
    "duration": 122,
    "start_time": "2022-10-30T12:25:45.285Z"
   },
   {
    "duration": 135,
    "start_time": "2022-10-30T12:25:45.409Z"
   },
   {
    "duration": 5,
    "start_time": "2022-10-30T12:25:45.545Z"
   },
   {
    "duration": 205,
    "start_time": "2022-10-30T12:25:45.551Z"
   },
   {
    "duration": 4,
    "start_time": "2022-10-30T12:25:45.758Z"
   },
   {
    "duration": 53,
    "start_time": "2022-10-30T12:25:45.764Z"
   },
   {
    "duration": 78,
    "start_time": "2022-10-30T12:25:45.818Z"
   },
   {
    "duration": 43,
    "start_time": "2022-10-30T12:25:45.898Z"
   },
   {
    "duration": 70,
    "start_time": "2022-10-30T12:25:45.943Z"
   },
   {
    "duration": 22,
    "start_time": "2022-10-30T12:25:46.015Z"
   },
   {
    "duration": 10,
    "start_time": "2022-10-30T12:25:46.038Z"
   },
   {
    "duration": 64,
    "start_time": "2022-10-30T12:25:46.050Z"
   },
   {
    "duration": 80,
    "start_time": "2022-10-30T12:25:46.115Z"
   },
   {
    "duration": 21,
    "start_time": "2022-10-30T12:25:46.196Z"
   },
   {
    "duration": 5,
    "start_time": "2022-10-30T12:25:46.218Z"
   },
   {
    "duration": 20,
    "start_time": "2022-10-30T12:25:46.224Z"
   },
   {
    "duration": 10,
    "start_time": "2022-10-30T12:25:46.245Z"
   },
   {
    "duration": 1217,
    "start_time": "2022-10-30T12:29:01.005Z"
   },
   {
    "duration": 11,
    "start_time": "2022-10-30T12:29:28.492Z"
   },
   {
    "duration": 4,
    "start_time": "2022-10-30T12:31:18.221Z"
   },
   {
    "duration": 6,
    "start_time": "2022-10-30T12:31:47.943Z"
   },
   {
    "duration": 7,
    "start_time": "2022-10-30T12:31:54.693Z"
   },
   {
    "duration": 9,
    "start_time": "2022-10-30T12:33:52.045Z"
   },
   {
    "duration": 1262,
    "start_time": "2022-10-30T12:37:14.653Z"
   },
   {
    "duration": 5,
    "start_time": "2022-10-30T12:37:35.346Z"
   },
   {
    "duration": 11,
    "start_time": "2022-10-30T12:38:18.072Z"
   },
   {
    "duration": 19,
    "start_time": "2022-10-30T12:38:35.902Z"
   },
   {
    "duration": 1342,
    "start_time": "2022-10-30T12:43:14.100Z"
   },
   {
    "duration": 1397,
    "start_time": "2022-10-30T12:43:43.444Z"
   },
   {
    "duration": 19,
    "start_time": "2022-10-30T12:44:07.664Z"
   },
   {
    "duration": 11,
    "start_time": "2022-10-30T12:48:04.726Z"
   },
   {
    "duration": 150,
    "start_time": "2022-10-30T14:20:03.608Z"
   },
   {
    "duration": 6,
    "start_time": "2022-10-30T14:20:20.248Z"
   },
   {
    "duration": 4,
    "start_time": "2022-10-30T14:20:22.986Z"
   },
   {
    "duration": 5,
    "start_time": "2022-10-30T14:20:29.860Z"
   },
   {
    "duration": 5,
    "start_time": "2022-10-30T14:20:31.610Z"
   },
   {
    "duration": 20,
    "start_time": "2022-10-30T14:20:34.850Z"
   },
   {
    "duration": 12,
    "start_time": "2022-10-30T14:20:39.072Z"
   },
   {
    "duration": 1127,
    "start_time": "2022-10-30T14:21:16.907Z"
   },
   {
    "duration": 34,
    "start_time": "2022-10-30T14:21:18.038Z"
   },
   {
    "duration": 10,
    "start_time": "2022-10-30T14:21:18.073Z"
   },
   {
    "duration": 12,
    "start_time": "2022-10-30T14:21:18.085Z"
   },
   {
    "duration": 11,
    "start_time": "2022-10-30T14:21:18.099Z"
   },
   {
    "duration": 56,
    "start_time": "2022-10-30T14:21:18.111Z"
   },
   {
    "duration": 4,
    "start_time": "2022-10-30T14:21:18.168Z"
   },
   {
    "duration": 78,
    "start_time": "2022-10-30T14:21:18.173Z"
   },
   {
    "duration": 5,
    "start_time": "2022-10-30T14:21:18.253Z"
   },
   {
    "duration": 42,
    "start_time": "2022-10-30T14:21:18.261Z"
   },
   {
    "duration": 3,
    "start_time": "2022-10-30T14:21:18.304Z"
   },
   {
    "duration": 9,
    "start_time": "2022-10-30T14:21:18.309Z"
   },
   {
    "duration": 6,
    "start_time": "2022-10-30T14:21:18.319Z"
   },
   {
    "duration": 4,
    "start_time": "2022-10-30T14:21:18.327Z"
   },
   {
    "duration": 6,
    "start_time": "2022-10-30T14:21:18.332Z"
   },
   {
    "duration": 41,
    "start_time": "2022-10-30T14:21:18.339Z"
   },
   {
    "duration": 8,
    "start_time": "2022-10-30T14:21:18.381Z"
   },
   {
    "duration": 19,
    "start_time": "2022-10-30T14:21:18.390Z"
   },
   {
    "duration": 157,
    "start_time": "2022-10-30T14:21:18.410Z"
   },
   {
    "duration": 127,
    "start_time": "2022-10-30T14:21:18.569Z"
   },
   {
    "duration": 12,
    "start_time": "2022-10-30T14:21:18.697Z"
   },
   {
    "duration": 239,
    "start_time": "2022-10-30T14:21:18.711Z"
   },
   {
    "duration": 163,
    "start_time": "2022-10-30T14:21:18.952Z"
   },
   {
    "duration": 224,
    "start_time": "2022-10-30T14:21:19.116Z"
   },
   {
    "duration": 181,
    "start_time": "2022-10-30T14:21:19.342Z"
   },
   {
    "duration": 255,
    "start_time": "2022-10-30T14:21:19.525Z"
   },
   {
    "duration": 11,
    "start_time": "2022-10-30T14:21:19.782Z"
   },
   {
    "duration": 131,
    "start_time": "2022-10-30T14:21:19.796Z"
   },
   {
    "duration": 123,
    "start_time": "2022-10-30T14:21:19.929Z"
   },
   {
    "duration": 4,
    "start_time": "2022-10-30T14:21:20.054Z"
   },
   {
    "duration": 185,
    "start_time": "2022-10-30T14:21:20.059Z"
   },
   {
    "duration": 4,
    "start_time": "2022-10-30T14:21:20.246Z"
   },
   {
    "duration": 54,
    "start_time": "2022-10-30T14:21:20.252Z"
   },
   {
    "duration": 55,
    "start_time": "2022-10-30T14:21:20.307Z"
   },
   {
    "duration": 53,
    "start_time": "2022-10-30T14:21:20.363Z"
   },
   {
    "duration": 64,
    "start_time": "2022-10-30T14:21:20.418Z"
   },
   {
    "duration": 18,
    "start_time": "2022-10-30T14:21:20.484Z"
   },
   {
    "duration": 10,
    "start_time": "2022-10-30T14:21:20.503Z"
   },
   {
    "duration": 76,
    "start_time": "2022-10-30T14:21:20.514Z"
   },
   {
    "duration": 64,
    "start_time": "2022-10-30T14:21:20.592Z"
   },
   {
    "duration": 20,
    "start_time": "2022-10-30T14:21:20.658Z"
   },
   {
    "duration": 6,
    "start_time": "2022-10-30T14:21:20.679Z"
   },
   {
    "duration": 20,
    "start_time": "2022-10-30T14:21:20.686Z"
   },
   {
    "duration": 10,
    "start_time": "2022-10-30T14:21:20.707Z"
   },
   {
    "duration": 7,
    "start_time": "2022-10-30T14:21:20.718Z"
   },
   {
    "duration": 7,
    "start_time": "2022-10-30T14:21:20.726Z"
   },
   {
    "duration": 8,
    "start_time": "2022-10-30T14:21:20.735Z"
   },
   {
    "duration": 35,
    "start_time": "2022-10-30T14:21:20.745Z"
   },
   {
    "duration": 19,
    "start_time": "2022-10-30T14:21:20.782Z"
   },
   {
    "duration": 11,
    "start_time": "2022-10-30T14:21:20.803Z"
   },
   {
    "duration": 5,
    "start_time": "2022-10-30T14:25:14.416Z"
   },
   {
    "duration": 4,
    "start_time": "2022-10-30T14:25:33.984Z"
   },
   {
    "duration": 5,
    "start_time": "2022-10-30T14:25:39.203Z"
   },
   {
    "duration": 5,
    "start_time": "2022-10-30T14:26:06.967Z"
   },
   {
    "duration": 1143,
    "start_time": "2022-10-30T14:28:54.742Z"
   },
   {
    "duration": 28,
    "start_time": "2022-10-30T14:28:55.887Z"
   },
   {
    "duration": 12,
    "start_time": "2022-10-30T14:28:55.917Z"
   },
   {
    "duration": 40,
    "start_time": "2022-10-30T14:28:55.932Z"
   },
   {
    "duration": 114,
    "start_time": "2022-10-30T14:28:55.974Z"
   },
   {
    "duration": 1203,
    "start_time": "2022-10-30T14:28:56.090Z"
   },
   {
    "duration": 812,
    "start_time": "2022-10-30T14:28:57.295Z"
   },
   {
    "duration": 97,
    "start_time": "2022-10-30T14:28:58.109Z"
   },
   {
    "duration": 8,
    "start_time": "2022-10-30T14:28:58.208Z"
   },
   {
    "duration": 63,
    "start_time": "2022-10-30T14:28:58.219Z"
   },
   {
    "duration": 5,
    "start_time": "2022-10-30T14:28:58.284Z"
   },
   {
    "duration": 11,
    "start_time": "2022-10-30T14:28:58.291Z"
   },
   {
    "duration": 11,
    "start_time": "2022-10-30T14:28:58.304Z"
   },
   {
    "duration": 7,
    "start_time": "2022-10-30T14:28:58.317Z"
   },
   {
    "duration": 6,
    "start_time": "2022-10-30T14:28:58.326Z"
   },
   {
    "duration": 10,
    "start_time": "2022-10-30T14:28:58.334Z"
   },
   {
    "duration": 8,
    "start_time": "2022-10-30T14:28:58.379Z"
   },
   {
    "duration": 17,
    "start_time": "2022-10-30T14:28:58.389Z"
   },
   {
    "duration": 171,
    "start_time": "2022-10-30T14:28:58.408Z"
   },
   {
    "duration": 142,
    "start_time": "2022-10-30T14:28:58.581Z"
   },
   {
    "duration": 16,
    "start_time": "2022-10-30T14:28:58.725Z"
   },
   {
    "duration": 287,
    "start_time": "2022-10-30T14:28:58.743Z"
   },
   {
    "duration": 248,
    "start_time": "2022-10-30T14:28:59.033Z"
   },
   {
    "duration": 261,
    "start_time": "2022-10-30T14:28:59.283Z"
   },
   {
    "duration": 205,
    "start_time": "2022-10-30T14:28:59.545Z"
   },
   {
    "duration": 313,
    "start_time": "2022-10-30T14:28:59.751Z"
   },
   {
    "duration": 23,
    "start_time": "2022-10-30T14:29:00.067Z"
   },
   {
    "duration": 156,
    "start_time": "2022-10-30T14:29:00.094Z"
   },
   {
    "duration": 136,
    "start_time": "2022-10-30T14:29:00.253Z"
   },
   {
    "duration": 7,
    "start_time": "2022-10-30T14:29:00.391Z"
   },
   {
    "duration": 240,
    "start_time": "2022-10-30T14:29:00.400Z"
   },
   {
    "duration": 6,
    "start_time": "2022-10-30T14:29:00.641Z"
   },
   {
    "duration": 64,
    "start_time": "2022-10-30T14:29:00.649Z"
   },
   {
    "duration": 81,
    "start_time": "2022-10-30T14:29:00.715Z"
   },
   {
    "duration": 59,
    "start_time": "2022-10-30T14:29:00.798Z"
   },
   {
    "duration": 82,
    "start_time": "2022-10-30T14:29:00.859Z"
   },
   {
    "duration": 25,
    "start_time": "2022-10-30T14:29:00.943Z"
   },
   {
    "duration": 43,
    "start_time": "2022-10-30T14:29:00.969Z"
   },
   {
    "duration": 112,
    "start_time": "2022-10-30T14:29:01.015Z"
   },
   {
    "duration": 87,
    "start_time": "2022-10-30T14:29:01.129Z"
   },
   {
    "duration": 7,
    "start_time": "2022-10-30T14:29:01.220Z"
   },
   {
    "duration": 19,
    "start_time": "2022-10-30T14:29:01.229Z"
   },
   {
    "duration": 31,
    "start_time": "2022-10-30T14:29:01.250Z"
   },
   {
    "duration": 11,
    "start_time": "2022-10-30T14:29:01.282Z"
   },
   {
    "duration": 13,
    "start_time": "2022-10-30T14:29:01.295Z"
   },
   {
    "duration": 19,
    "start_time": "2022-10-30T14:29:01.309Z"
   },
   {
    "duration": 14,
    "start_time": "2022-10-30T14:29:01.329Z"
   },
   {
    "duration": 11,
    "start_time": "2022-10-30T14:29:01.345Z"
   },
   {
    "duration": 32,
    "start_time": "2022-10-30T14:29:01.357Z"
   },
   {
    "duration": 16,
    "start_time": "2022-10-30T14:29:01.391Z"
   },
   {
    "duration": 47,
    "start_time": "2022-10-30T19:11:49.176Z"
   },
   {
    "duration": 6,
    "start_time": "2022-10-30T19:11:52.121Z"
   },
   {
    "duration": 1329,
    "start_time": "2022-10-30T19:11:57.952Z"
   },
   {
    "duration": 64,
    "start_time": "2022-10-30T19:11:59.283Z"
   },
   {
    "duration": 12,
    "start_time": "2022-10-30T19:11:59.349Z"
   },
   {
    "duration": 13,
    "start_time": "2022-10-30T19:11:59.363Z"
   },
   {
    "duration": 13,
    "start_time": "2022-10-30T19:11:59.377Z"
   },
   {
    "duration": 149,
    "start_time": "2022-10-30T19:11:59.391Z"
   },
   {
    "duration": 3,
    "start_time": "2022-10-30T19:11:59.542Z"
   },
   {
    "duration": 81,
    "start_time": "2022-10-30T19:11:59.547Z"
   },
   {
    "duration": 6,
    "start_time": "2022-10-30T19:11:59.630Z"
   },
   {
    "duration": 33,
    "start_time": "2022-10-30T19:11:59.653Z"
   },
   {
    "duration": 3,
    "start_time": "2022-10-30T19:11:59.688Z"
   },
   {
    "duration": 10,
    "start_time": "2022-10-30T19:11:59.693Z"
   },
   {
    "duration": 5,
    "start_time": "2022-10-30T19:11:59.705Z"
   },
   {
    "duration": 5,
    "start_time": "2022-10-30T19:11:59.712Z"
   },
   {
    "duration": 36,
    "start_time": "2022-10-30T19:11:59.718Z"
   },
   {
    "duration": 10,
    "start_time": "2022-10-30T19:11:59.756Z"
   },
   {
    "duration": 10,
    "start_time": "2022-10-30T19:11:59.768Z"
   },
   {
    "duration": 11,
    "start_time": "2022-10-30T19:11:59.779Z"
   },
   {
    "duration": 164,
    "start_time": "2022-10-30T19:11:59.791Z"
   },
   {
    "duration": 132,
    "start_time": "2022-10-30T19:11:59.957Z"
   },
   {
    "duration": 13,
    "start_time": "2022-10-30T19:12:00.091Z"
   },
   {
    "duration": 276,
    "start_time": "2022-10-30T19:12:00.106Z"
   },
   {
    "duration": 282,
    "start_time": "2022-10-30T19:12:00.384Z"
   },
   {
    "duration": 502,
    "start_time": "2022-10-30T19:12:00.668Z"
   },
   {
    "duration": 511,
    "start_time": "2022-10-30T19:12:01.173Z"
   },
   {
    "duration": 501,
    "start_time": "2022-10-30T19:12:01.687Z"
   },
   {
    "duration": 68,
    "start_time": "2022-10-30T19:12:02.190Z"
   },
   {
    "duration": 232,
    "start_time": "2022-10-30T19:12:02.261Z"
   },
   {
    "duration": 361,
    "start_time": "2022-10-30T19:12:02.495Z"
   },
   {
    "duration": 5,
    "start_time": "2022-10-30T19:12:02.858Z"
   },
   {
    "duration": 240,
    "start_time": "2022-10-30T19:12:02.864Z"
   },
   {
    "duration": 6,
    "start_time": "2022-10-30T19:12:03.105Z"
   },
   {
    "duration": 60,
    "start_time": "2022-10-30T19:12:03.112Z"
   },
   {
    "duration": 66,
    "start_time": "2022-10-30T19:12:03.173Z"
   },
   {
    "duration": 57,
    "start_time": "2022-10-30T19:12:03.240Z"
   },
   {
    "duration": 79,
    "start_time": "2022-10-30T19:12:03.299Z"
   },
   {
    "duration": 24,
    "start_time": "2022-10-30T19:12:03.380Z"
   },
   {
    "duration": 11,
    "start_time": "2022-10-30T19:12:03.406Z"
   },
   {
    "duration": 85,
    "start_time": "2022-10-30T19:12:03.419Z"
   },
   {
    "duration": 92,
    "start_time": "2022-10-30T19:12:03.506Z"
   },
   {
    "duration": 5,
    "start_time": "2022-10-30T19:12:03.600Z"
   },
   {
    "duration": 18,
    "start_time": "2022-10-30T19:12:03.607Z"
   },
   {
    "duration": 29,
    "start_time": "2022-10-30T19:12:03.626Z"
   },
   {
    "duration": 12,
    "start_time": "2022-10-30T19:12:03.657Z"
   },
   {
    "duration": 9,
    "start_time": "2022-10-30T19:12:03.671Z"
   },
   {
    "duration": 12,
    "start_time": "2022-10-30T19:12:03.683Z"
   },
   {
    "duration": 10,
    "start_time": "2022-10-30T19:12:03.697Z"
   },
   {
    "duration": 9,
    "start_time": "2022-10-30T19:12:03.709Z"
   },
   {
    "duration": 46,
    "start_time": "2022-10-30T19:12:03.720Z"
   },
   {
    "duration": 15,
    "start_time": "2022-10-30T19:12:03.767Z"
   },
   {
    "duration": 3,
    "start_time": "2022-10-30T19:12:19.435Z"
   },
   {
    "duration": 15,
    "start_time": "2022-10-30T19:12:30.368Z"
   },
   {
    "duration": 31,
    "start_time": "2022-10-30T19:12:36.353Z"
   },
   {
    "duration": 10,
    "start_time": "2022-10-30T19:12:38.029Z"
   },
   {
    "duration": 12,
    "start_time": "2022-10-30T19:17:36.117Z"
   },
   {
    "duration": 19,
    "start_time": "2022-10-30T19:18:43.606Z"
   },
   {
    "duration": 102,
    "start_time": "2022-10-30T19:20:38.869Z"
   },
   {
    "duration": 183,
    "start_time": "2022-10-30T19:21:18.900Z"
   },
   {
    "duration": 1186,
    "start_time": "2022-10-30T21:33:41.549Z"
   },
   {
    "duration": 85,
    "start_time": "2022-10-30T21:33:42.737Z"
   },
   {
    "duration": 10,
    "start_time": "2022-10-30T21:33:42.824Z"
   },
   {
    "duration": 12,
    "start_time": "2022-10-30T21:33:42.836Z"
   },
   {
    "duration": 11,
    "start_time": "2022-10-30T21:33:42.849Z"
   },
   {
    "duration": 186,
    "start_time": "2022-10-30T21:33:42.861Z"
   },
   {
    "duration": 162,
    "start_time": "2022-10-30T21:33:43.048Z"
   },
   {
    "duration": 3,
    "start_time": "2022-10-30T21:33:43.212Z"
   },
   {
    "duration": 70,
    "start_time": "2022-10-30T21:33:43.216Z"
   },
   {
    "duration": 5,
    "start_time": "2022-10-30T21:33:43.288Z"
   },
   {
    "duration": 41,
    "start_time": "2022-10-30T21:33:43.294Z"
   },
   {
    "duration": 3,
    "start_time": "2022-10-30T21:33:43.336Z"
   },
   {
    "duration": 9,
    "start_time": "2022-10-30T21:33:43.341Z"
   },
   {
    "duration": 7,
    "start_time": "2022-10-30T21:33:43.351Z"
   },
   {
    "duration": 4,
    "start_time": "2022-10-30T21:33:43.359Z"
   },
   {
    "duration": 15,
    "start_time": "2022-10-30T21:33:43.365Z"
   },
   {
    "duration": 8,
    "start_time": "2022-10-30T21:33:43.382Z"
   },
   {
    "duration": 12,
    "start_time": "2022-10-30T21:33:43.392Z"
   },
   {
    "duration": 7,
    "start_time": "2022-10-30T21:33:43.421Z"
   },
   {
    "duration": 152,
    "start_time": "2022-10-30T21:33:43.429Z"
   },
   {
    "duration": 112,
    "start_time": "2022-10-30T21:33:43.582Z"
   },
   {
    "duration": 12,
    "start_time": "2022-10-30T21:33:43.695Z"
   },
   {
    "duration": 216,
    "start_time": "2022-10-30T21:33:43.708Z"
   },
   {
    "duration": 152,
    "start_time": "2022-10-30T21:33:43.926Z"
   },
   {
    "duration": 303,
    "start_time": "2022-10-30T21:33:44.080Z"
   },
   {
    "duration": 154,
    "start_time": "2022-10-30T21:33:44.384Z"
   },
   {
    "duration": 259,
    "start_time": "2022-10-30T21:33:44.540Z"
   },
   {
    "duration": 22,
    "start_time": "2022-10-30T21:33:44.803Z"
   },
   {
    "duration": 116,
    "start_time": "2022-10-30T21:33:44.826Z"
   },
   {
    "duration": 188,
    "start_time": "2022-10-30T21:33:44.944Z"
   },
   {
    "duration": 4,
    "start_time": "2022-10-30T21:33:45.133Z"
   },
   {
    "duration": 112,
    "start_time": "2022-10-30T21:33:45.139Z"
   },
   {
    "duration": 4,
    "start_time": "2022-10-30T21:33:45.253Z"
   },
   {
    "duration": 63,
    "start_time": "2022-10-30T21:33:45.259Z"
   },
   {
    "duration": 57,
    "start_time": "2022-10-30T21:33:45.323Z"
   },
   {
    "duration": 53,
    "start_time": "2022-10-30T21:33:45.381Z"
   },
   {
    "duration": 52,
    "start_time": "2022-10-30T21:33:45.435Z"
   },
   {
    "duration": 20,
    "start_time": "2022-10-30T21:33:45.489Z"
   },
   {
    "duration": 9,
    "start_time": "2022-10-30T21:33:45.523Z"
   },
   {
    "duration": 73,
    "start_time": "2022-10-30T21:33:45.534Z"
   },
   {
    "duration": 63,
    "start_time": "2022-10-30T21:33:45.624Z"
   },
   {
    "duration": 5,
    "start_time": "2022-10-30T21:33:45.689Z"
   },
   {
    "duration": 9,
    "start_time": "2022-10-30T21:33:45.695Z"
   },
   {
    "duration": 32,
    "start_time": "2022-10-30T21:33:45.705Z"
   },
   {
    "duration": 8,
    "start_time": "2022-10-30T21:33:45.739Z"
   },
   {
    "duration": 7,
    "start_time": "2022-10-30T21:33:45.748Z"
   },
   {
    "duration": 4,
    "start_time": "2022-10-30T21:33:45.756Z"
   },
   {
    "duration": 5,
    "start_time": "2022-10-30T21:33:45.762Z"
   },
   {
    "duration": 6,
    "start_time": "2022-10-30T21:33:45.768Z"
   },
   {
    "duration": 22,
    "start_time": "2022-10-30T21:33:45.775Z"
   },
   {
    "duration": 12,
    "start_time": "2022-10-30T21:33:45.822Z"
   },
   {
    "duration": 4,
    "start_time": "2022-10-30T21:36:13.288Z"
   },
   {
    "duration": 147,
    "start_time": "2022-10-30T21:41:50.252Z"
   },
   {
    "duration": 156,
    "start_time": "2022-10-30T21:41:59.778Z"
   },
   {
    "duration": 150,
    "start_time": "2022-10-30T21:42:06.676Z"
   },
   {
    "duration": 193,
    "start_time": "2022-10-30T21:42:14.277Z"
   },
   {
    "duration": 150,
    "start_time": "2022-10-30T21:42:19.778Z"
   },
   {
    "duration": 294,
    "start_time": "2022-10-30T21:42:26.301Z"
   },
   {
    "duration": 161,
    "start_time": "2022-10-30T21:43:07.166Z"
   },
   {
    "duration": 181,
    "start_time": "2022-10-30T21:43:32.510Z"
   },
   {
    "duration": 227,
    "start_time": "2022-10-30T21:43:57.758Z"
   },
   {
    "duration": 160,
    "start_time": "2022-10-30T21:44:37.578Z"
   },
   {
    "duration": 396,
    "start_time": "2022-10-30T21:45:31.627Z"
   },
   {
    "duration": 264,
    "start_time": "2022-10-30T21:45:46.804Z"
   },
   {
    "duration": 110,
    "start_time": "2022-10-30T21:55:31.071Z"
   },
   {
    "duration": 9,
    "start_time": "2022-10-30T21:55:41.596Z"
   },
   {
    "duration": 12,
    "start_time": "2022-10-30T21:56:04.158Z"
   },
   {
    "duration": 6,
    "start_time": "2022-10-30T21:56:15.485Z"
   },
   {
    "duration": 44,
    "start_time": "2022-10-31T16:53:07.706Z"
   },
   {
    "duration": 1216,
    "start_time": "2022-10-31T16:53:13.826Z"
   },
   {
    "duration": 63,
    "start_time": "2022-10-31T16:53:15.045Z"
   },
   {
    "duration": 11,
    "start_time": "2022-10-31T16:53:15.109Z"
   },
   {
    "duration": 25,
    "start_time": "2022-10-31T16:53:15.122Z"
   },
   {
    "duration": 11,
    "start_time": "2022-10-31T16:53:15.149Z"
   },
   {
    "duration": 187,
    "start_time": "2022-10-31T16:53:15.161Z"
   },
   {
    "duration": 125,
    "start_time": "2022-10-31T16:53:15.350Z"
   },
   {
    "duration": 4,
    "start_time": "2022-10-31T16:53:15.476Z"
   },
   {
    "duration": 76,
    "start_time": "2022-10-31T16:53:15.481Z"
   },
   {
    "duration": 4,
    "start_time": "2022-10-31T16:53:15.560Z"
   },
   {
    "duration": 31,
    "start_time": "2022-10-31T16:53:15.566Z"
   },
   {
    "duration": 4,
    "start_time": "2022-10-31T16:53:15.621Z"
   },
   {
    "duration": 10,
    "start_time": "2022-10-31T16:53:15.626Z"
   },
   {
    "duration": 7,
    "start_time": "2022-10-31T16:53:15.637Z"
   },
   {
    "duration": 7,
    "start_time": "2022-10-31T16:53:15.645Z"
   },
   {
    "duration": 10,
    "start_time": "2022-10-31T16:53:15.653Z"
   },
   {
    "duration": 9,
    "start_time": "2022-10-31T16:53:15.664Z"
   },
   {
    "duration": 8,
    "start_time": "2022-10-31T16:53:15.674Z"
   },
   {
    "duration": 8,
    "start_time": "2022-10-31T16:53:15.683Z"
   },
   {
    "duration": 169,
    "start_time": "2022-10-31T16:53:15.692Z"
   },
   {
    "duration": 123,
    "start_time": "2022-10-31T16:53:15.863Z"
   },
   {
    "duration": 14,
    "start_time": "2022-10-31T16:53:15.988Z"
   },
   {
    "duration": 19,
    "start_time": "2022-10-31T16:53:16.004Z"
   },
   {
    "duration": 266,
    "start_time": "2022-10-31T16:53:16.025Z"
   },
   {
    "duration": 169,
    "start_time": "2022-10-31T16:53:16.292Z"
   },
   {
    "duration": 310,
    "start_time": "2022-10-31T16:53:16.462Z"
   },
   {
    "duration": 176,
    "start_time": "2022-10-31T16:53:16.774Z"
   },
   {
    "duration": 287,
    "start_time": "2022-10-31T16:53:16.954Z"
   },
   {
    "duration": 11,
    "start_time": "2022-10-31T16:53:17.243Z"
   },
   {
    "duration": 130,
    "start_time": "2022-10-31T16:53:17.255Z"
   },
   {
    "duration": 192,
    "start_time": "2022-10-31T16:53:17.387Z"
   },
   {
    "duration": 5,
    "start_time": "2022-10-31T16:53:17.580Z"
   },
   {
    "duration": 121,
    "start_time": "2022-10-31T16:53:17.586Z"
   },
   {
    "duration": 13,
    "start_time": "2022-10-31T16:53:17.709Z"
   },
   {
    "duration": 50,
    "start_time": "2022-10-31T16:53:17.723Z"
   },
   {
    "duration": 73,
    "start_time": "2022-10-31T16:53:17.775Z"
   },
   {
    "duration": 64,
    "start_time": "2022-10-31T16:53:17.850Z"
   },
   {
    "duration": 75,
    "start_time": "2022-10-31T16:53:17.916Z"
   },
   {
    "duration": 23,
    "start_time": "2022-10-31T16:53:17.993Z"
   },
   {
    "duration": 13,
    "start_time": "2022-10-31T16:53:18.017Z"
   },
   {
    "duration": 64,
    "start_time": "2022-10-31T16:53:18.032Z"
   },
   {
    "duration": 70,
    "start_time": "2022-10-31T16:53:18.098Z"
   },
   {
    "duration": 5,
    "start_time": "2022-10-31T16:53:18.170Z"
   },
   {
    "duration": 13,
    "start_time": "2022-10-31T16:53:18.176Z"
   },
   {
    "duration": 29,
    "start_time": "2022-10-31T16:53:18.191Z"
   },
   {
    "duration": 11,
    "start_time": "2022-10-31T16:53:18.222Z"
   },
   {
    "duration": 15,
    "start_time": "2022-10-31T16:53:18.235Z"
   },
   {
    "duration": 9,
    "start_time": "2022-10-31T16:53:18.251Z"
   },
   {
    "duration": 15,
    "start_time": "2022-10-31T16:53:18.261Z"
   },
   {
    "duration": 15,
    "start_time": "2022-10-31T16:53:18.278Z"
   },
   {
    "duration": 28,
    "start_time": "2022-10-31T16:53:18.295Z"
   },
   {
    "duration": 11,
    "start_time": "2022-10-31T16:53:18.324Z"
   },
   {
    "duration": 19,
    "start_time": "2022-10-31T16:54:06.870Z"
   },
   {
    "duration": 10,
    "start_time": "2022-10-31T16:54:32.258Z"
   },
   {
    "duration": 8,
    "start_time": "2022-10-31T16:54:57.420Z"
   },
   {
    "duration": 8,
    "start_time": "2022-10-31T16:55:00.657Z"
   },
   {
    "duration": 4,
    "start_time": "2022-10-31T16:56:04.257Z"
   },
   {
    "duration": 76,
    "start_time": "2022-10-31T16:56:06.984Z"
   },
   {
    "duration": 1555,
    "start_time": "2022-10-31T16:57:06.209Z"
   },
   {
    "duration": 1068,
    "start_time": "2022-10-31T16:57:42.871Z"
   },
   {
    "duration": 7,
    "start_time": "2022-10-31T16:58:37.009Z"
   },
   {
    "duration": 9,
    "start_time": "2022-10-31T16:59:48.073Z"
   },
   {
    "duration": 9,
    "start_time": "2022-10-31T16:59:52.497Z"
   },
   {
    "duration": 5,
    "start_time": "2022-10-31T17:04:37.537Z"
   },
   {
    "duration": 1054,
    "start_time": "2022-10-31T17:05:22.761Z"
   },
   {
    "duration": 25,
    "start_time": "2022-10-31T17:05:23.817Z"
   },
   {
    "duration": 12,
    "start_time": "2022-10-31T17:05:23.843Z"
   },
   {
    "duration": 12,
    "start_time": "2022-10-31T17:05:23.857Z"
   },
   {
    "duration": 12,
    "start_time": "2022-10-31T17:05:23.870Z"
   },
   {
    "duration": 192,
    "start_time": "2022-10-31T17:05:23.884Z"
   },
   {
    "duration": 45,
    "start_time": "2022-10-31T17:05:24.079Z"
   },
   {
    "duration": 5,
    "start_time": "2022-10-31T17:05:24.125Z"
   },
   {
    "duration": 91,
    "start_time": "2022-10-31T17:05:24.131Z"
   },
   {
    "duration": 8,
    "start_time": "2022-10-31T17:05:24.225Z"
   },
   {
    "duration": 43,
    "start_time": "2022-10-31T17:05:24.234Z"
   },
   {
    "duration": 3,
    "start_time": "2022-10-31T17:05:24.280Z"
   },
   {
    "duration": 42,
    "start_time": "2022-10-31T17:05:24.285Z"
   },
   {
    "duration": 6,
    "start_time": "2022-10-31T17:05:24.329Z"
   },
   {
    "duration": 14,
    "start_time": "2022-10-31T17:05:24.336Z"
   },
   {
    "duration": 16,
    "start_time": "2022-10-31T17:05:24.352Z"
   },
   {
    "duration": 17,
    "start_time": "2022-10-31T17:05:24.370Z"
   },
   {
    "duration": 8,
    "start_time": "2022-10-31T17:05:24.389Z"
   },
   {
    "duration": 6,
    "start_time": "2022-10-31T17:05:24.398Z"
   },
   {
    "duration": 9,
    "start_time": "2022-10-31T17:05:24.405Z"
   },
   {
    "duration": 169,
    "start_time": "2022-10-31T17:05:24.416Z"
   },
   {
    "duration": 118,
    "start_time": "2022-10-31T17:05:24.586Z"
   },
   {
    "duration": 24,
    "start_time": "2022-10-31T17:05:24.706Z"
   },
   {
    "duration": 9,
    "start_time": "2022-10-31T17:05:24.731Z"
   },
   {
    "duration": 267,
    "start_time": "2022-10-31T17:05:24.741Z"
   },
   {
    "duration": 170,
    "start_time": "2022-10-31T17:05:25.010Z"
   },
   {
    "duration": 279,
    "start_time": "2022-10-31T17:05:25.181Z"
   },
   {
    "duration": 181,
    "start_time": "2022-10-31T17:05:25.464Z"
   },
   {
    "duration": 269,
    "start_time": "2022-10-31T17:05:25.646Z"
   },
   {
    "duration": 11,
    "start_time": "2022-10-31T17:05:25.921Z"
   },
   {
    "duration": 162,
    "start_time": "2022-10-31T17:05:25.933Z"
   },
   {
    "duration": 218,
    "start_time": "2022-10-31T17:05:26.097Z"
   },
   {
    "duration": 5,
    "start_time": "2022-10-31T17:05:26.317Z"
   },
   {
    "duration": 123,
    "start_time": "2022-10-31T17:05:26.324Z"
   },
   {
    "duration": 5,
    "start_time": "2022-10-31T17:05:26.448Z"
   },
   {
    "duration": 48,
    "start_time": "2022-10-31T17:05:26.454Z"
   },
   {
    "duration": 65,
    "start_time": "2022-10-31T17:05:26.503Z"
   },
   {
    "duration": 45,
    "start_time": "2022-10-31T17:05:26.570Z"
   },
   {
    "duration": 56,
    "start_time": "2022-10-31T17:05:26.617Z"
   },
   {
    "duration": 19,
    "start_time": "2022-10-31T17:05:26.674Z"
   },
   {
    "duration": 9,
    "start_time": "2022-10-31T17:05:26.694Z"
   },
   {
    "duration": 68,
    "start_time": "2022-10-31T17:05:26.704Z"
   },
   {
    "duration": 74,
    "start_time": "2022-10-31T17:05:26.773Z"
   },
   {
    "duration": 5,
    "start_time": "2022-10-31T17:05:26.848Z"
   },
   {
    "duration": 5,
    "start_time": "2022-10-31T17:05:26.855Z"
   },
   {
    "duration": 20,
    "start_time": "2022-10-31T17:05:26.861Z"
   },
   {
    "duration": 9,
    "start_time": "2022-10-31T17:05:26.882Z"
   },
   {
    "duration": 34,
    "start_time": "2022-10-31T17:05:26.893Z"
   },
   {
    "duration": 5,
    "start_time": "2022-10-31T17:05:26.929Z"
   },
   {
    "duration": 8,
    "start_time": "2022-10-31T17:05:26.935Z"
   },
   {
    "duration": 8,
    "start_time": "2022-10-31T17:05:26.944Z"
   },
   {
    "duration": 20,
    "start_time": "2022-10-31T17:05:26.953Z"
   },
   {
    "duration": 10,
    "start_time": "2022-10-31T17:05:26.975Z"
   },
   {
    "duration": 7,
    "start_time": "2022-10-31T17:07:15.514Z"
   },
   {
    "duration": 11,
    "start_time": "2022-10-31T17:08:29.540Z"
   },
   {
    "duration": 12,
    "start_time": "2022-10-31T17:08:38.903Z"
   },
   {
    "duration": 1309,
    "start_time": "2022-11-01T10:49:09.155Z"
   },
   {
    "duration": 72,
    "start_time": "2022-11-01T10:49:10.466Z"
   },
   {
    "duration": 11,
    "start_time": "2022-11-01T10:49:10.539Z"
   },
   {
    "duration": 13,
    "start_time": "2022-11-01T10:49:10.553Z"
   },
   {
    "duration": 13,
    "start_time": "2022-11-01T10:49:10.567Z"
   },
   {
    "duration": 184,
    "start_time": "2022-11-01T10:49:10.582Z"
   },
   {
    "duration": 133,
    "start_time": "2022-11-01T10:49:10.767Z"
   },
   {
    "duration": 5,
    "start_time": "2022-11-01T10:49:10.901Z"
   },
   {
    "duration": 80,
    "start_time": "2022-11-01T10:49:10.907Z"
   },
   {
    "duration": 20,
    "start_time": "2022-11-01T10:49:10.990Z"
   },
   {
    "duration": 36,
    "start_time": "2022-11-01T10:49:11.011Z"
   },
   {
    "duration": 4,
    "start_time": "2022-11-01T10:49:11.048Z"
   },
   {
    "duration": 7,
    "start_time": "2022-11-01T10:49:11.053Z"
   },
   {
    "duration": 9,
    "start_time": "2022-11-01T10:49:11.062Z"
   },
   {
    "duration": 4,
    "start_time": "2022-11-01T10:49:11.073Z"
   },
   {
    "duration": 5,
    "start_time": "2022-11-01T10:49:11.078Z"
   },
   {
    "duration": 7,
    "start_time": "2022-11-01T10:49:11.108Z"
   },
   {
    "duration": 4,
    "start_time": "2022-11-01T10:49:11.116Z"
   },
   {
    "duration": 5,
    "start_time": "2022-11-01T10:49:11.122Z"
   },
   {
    "duration": 15,
    "start_time": "2022-11-01T10:49:11.129Z"
   },
   {
    "duration": 9,
    "start_time": "2022-11-01T10:49:11.146Z"
   },
   {
    "duration": 188,
    "start_time": "2022-11-01T10:49:11.157Z"
   },
   {
    "duration": 122,
    "start_time": "2022-11-01T10:49:11.346Z"
   },
   {
    "duration": 12,
    "start_time": "2022-11-01T10:49:11.470Z"
   },
   {
    "duration": 5,
    "start_time": "2022-11-01T10:49:11.483Z"
   },
   {
    "duration": 276,
    "start_time": "2022-11-01T10:49:11.489Z"
   },
   {
    "duration": 189,
    "start_time": "2022-11-01T10:49:11.767Z"
   },
   {
    "duration": 355,
    "start_time": "2022-11-01T10:49:11.959Z"
   },
   {
    "duration": 198,
    "start_time": "2022-11-01T10:49:12.315Z"
   },
   {
    "duration": 320,
    "start_time": "2022-11-01T10:49:12.515Z"
   },
   {
    "duration": 12,
    "start_time": "2022-11-01T10:49:12.836Z"
   },
   {
    "duration": 275,
    "start_time": "2022-11-01T10:49:12.849Z"
   },
   {
    "duration": 404,
    "start_time": "2022-11-01T10:49:13.126Z"
   },
   {
    "duration": 6,
    "start_time": "2022-11-01T10:49:13.531Z"
   },
   {
    "duration": 278,
    "start_time": "2022-11-01T10:49:13.539Z"
   },
   {
    "duration": 5,
    "start_time": "2022-11-01T10:49:13.819Z"
   },
   {
    "duration": 100,
    "start_time": "2022-11-01T10:49:13.826Z"
   },
   {
    "duration": 112,
    "start_time": "2022-11-01T10:49:13.928Z"
   },
   {
    "duration": 100,
    "start_time": "2022-11-01T10:49:14.041Z"
   },
   {
    "duration": 111,
    "start_time": "2022-11-01T10:49:14.143Z"
   },
   {
    "duration": 71,
    "start_time": "2022-11-01T10:49:14.255Z"
   },
   {
    "duration": 10,
    "start_time": "2022-11-01T10:49:14.327Z"
   },
   {
    "duration": 171,
    "start_time": "2022-11-01T10:49:14.338Z"
   },
   {
    "duration": 134,
    "start_time": "2022-11-01T10:49:14.512Z"
   },
   {
    "duration": 4,
    "start_time": "2022-11-01T10:49:14.648Z"
   },
   {
    "duration": 56,
    "start_time": "2022-11-01T10:49:14.653Z"
   },
   {
    "duration": 29,
    "start_time": "2022-11-01T10:49:14.711Z"
   },
   {
    "duration": 11,
    "start_time": "2022-11-01T10:49:14.742Z"
   },
   {
    "duration": 60,
    "start_time": "2022-11-01T10:49:14.755Z"
   },
   {
    "duration": 8,
    "start_time": "2022-11-01T10:49:14.816Z"
   },
   {
    "duration": 6,
    "start_time": "2022-11-01T10:49:14.825Z"
   },
   {
    "duration": 7,
    "start_time": "2022-11-01T10:49:14.832Z"
   },
   {
    "duration": 21,
    "start_time": "2022-11-01T10:49:14.841Z"
   },
   {
    "duration": 13,
    "start_time": "2022-11-01T10:49:14.863Z"
   },
   {
    "duration": 127,
    "start_time": "2022-11-01T10:53:26.160Z"
   },
   {
    "duration": 126,
    "start_time": "2022-11-01T10:54:01.590Z"
   },
   {
    "duration": 135,
    "start_time": "2022-11-01T10:54:55.700Z"
   },
   {
    "duration": 125,
    "start_time": "2022-11-01T10:56:02.375Z"
   },
   {
    "duration": 198,
    "start_time": "2022-11-01T10:58:38.540Z"
   },
   {
    "duration": 179,
    "start_time": "2022-11-01T10:59:07.366Z"
   },
   {
    "duration": 189,
    "start_time": "2022-11-01T10:59:23.403Z"
   },
   {
    "duration": 197,
    "start_time": "2022-11-01T11:00:00.792Z"
   },
   {
    "duration": 325,
    "start_time": "2022-11-01T11:00:53.192Z"
   },
   {
    "duration": 326,
    "start_time": "2022-11-01T11:01:03.601Z"
   },
   {
    "duration": 196,
    "start_time": "2022-11-01T11:01:30.993Z"
   },
   {
    "duration": 127,
    "start_time": "2022-11-01T11:01:38.757Z"
   },
   {
    "duration": 258,
    "start_time": "2022-11-01T11:13:41.761Z"
   },
   {
    "duration": 1124,
    "start_time": "2022-11-01T11:16:39.375Z"
   },
   {
    "duration": 27,
    "start_time": "2022-11-01T11:16:40.502Z"
   },
   {
    "duration": 11,
    "start_time": "2022-11-01T11:16:40.531Z"
   },
   {
    "duration": 12,
    "start_time": "2022-11-01T11:16:40.544Z"
   },
   {
    "duration": 12,
    "start_time": "2022-11-01T11:16:40.558Z"
   },
   {
    "duration": 198,
    "start_time": "2022-11-01T11:16:40.571Z"
   },
   {
    "duration": 54,
    "start_time": "2022-11-01T11:16:40.771Z"
   },
   {
    "duration": 3,
    "start_time": "2022-11-01T11:16:40.827Z"
   },
   {
    "duration": 84,
    "start_time": "2022-11-01T11:16:40.832Z"
   },
   {
    "duration": 6,
    "start_time": "2022-11-01T11:16:40.919Z"
   },
   {
    "duration": 44,
    "start_time": "2022-11-01T11:16:40.927Z"
   },
   {
    "duration": 5,
    "start_time": "2022-11-01T11:16:40.973Z"
   },
   {
    "duration": 7,
    "start_time": "2022-11-01T11:16:41.010Z"
   },
   {
    "duration": 11,
    "start_time": "2022-11-01T11:16:41.019Z"
   },
   {
    "duration": 5,
    "start_time": "2022-11-01T11:16:41.033Z"
   },
   {
    "duration": 9,
    "start_time": "2022-11-01T11:16:41.040Z"
   },
   {
    "duration": 8,
    "start_time": "2022-11-01T11:16:41.050Z"
   },
   {
    "duration": 6,
    "start_time": "2022-11-01T11:16:41.060Z"
   },
   {
    "duration": 5,
    "start_time": "2022-11-01T11:16:41.069Z"
   },
   {
    "duration": 19,
    "start_time": "2022-11-01T11:16:41.110Z"
   },
   {
    "duration": 9,
    "start_time": "2022-11-01T11:16:41.131Z"
   },
   {
    "duration": 188,
    "start_time": "2022-11-01T11:16:41.142Z"
   },
   {
    "duration": 124,
    "start_time": "2022-11-01T11:16:41.332Z"
   },
   {
    "duration": 12,
    "start_time": "2022-11-01T11:16:41.457Z"
   },
   {
    "duration": 6,
    "start_time": "2022-11-01T11:16:41.470Z"
   },
   {
    "duration": 307,
    "start_time": "2022-11-01T11:16:41.478Z"
   },
   {
    "duration": 195,
    "start_time": "2022-11-01T11:16:41.787Z"
   },
   {
    "duration": 303,
    "start_time": "2022-11-01T11:16:41.986Z"
   },
   {
    "duration": 202,
    "start_time": "2022-11-01T11:16:42.290Z"
   },
   {
    "duration": 356,
    "start_time": "2022-11-01T11:16:42.494Z"
   },
   {
    "duration": 12,
    "start_time": "2022-11-01T11:16:42.853Z"
   },
   {
    "duration": 151,
    "start_time": "2022-11-01T11:16:42.866Z"
   },
   {
    "duration": 228,
    "start_time": "2022-11-01T11:16:43.019Z"
   },
   {
    "duration": 6,
    "start_time": "2022-11-01T11:16:43.249Z"
   },
   {
    "duration": 150,
    "start_time": "2022-11-01T11:16:43.256Z"
   },
   {
    "duration": 5,
    "start_time": "2022-11-01T11:16:43.409Z"
   },
   {
    "duration": 46,
    "start_time": "2022-11-01T11:16:43.416Z"
   },
   {
    "duration": 80,
    "start_time": "2022-11-01T11:16:43.464Z"
   },
   {
    "duration": 45,
    "start_time": "2022-11-01T11:16:43.545Z"
   },
   {
    "duration": 57,
    "start_time": "2022-11-01T11:16:43.609Z"
   },
   {
    "duration": 18,
    "start_time": "2022-11-01T11:16:43.668Z"
   },
   {
    "duration": 23,
    "start_time": "2022-11-01T11:16:43.688Z"
   },
   {
    "duration": 95,
    "start_time": "2022-11-01T11:16:43.714Z"
   },
   {
    "duration": 83,
    "start_time": "2022-11-01T11:16:43.811Z"
   },
   {
    "duration": 4,
    "start_time": "2022-11-01T11:16:43.909Z"
   },
   {
    "duration": 9,
    "start_time": "2022-11-01T11:16:43.915Z"
   },
   {
    "duration": 26,
    "start_time": "2022-11-01T11:16:43.925Z"
   },
   {
    "duration": 10,
    "start_time": "2022-11-01T11:16:43.952Z"
   },
   {
    "duration": 9,
    "start_time": "2022-11-01T11:16:43.964Z"
   },
   {
    "duration": 5,
    "start_time": "2022-11-01T11:16:43.975Z"
   },
   {
    "duration": 7,
    "start_time": "2022-11-01T11:16:44.008Z"
   },
   {
    "duration": 6,
    "start_time": "2022-11-01T11:16:44.017Z"
   },
   {
    "duration": 22,
    "start_time": "2022-11-01T11:16:44.024Z"
   },
   {
    "duration": 13,
    "start_time": "2022-11-01T11:16:44.047Z"
   }
  ],
  "kernelspec": {
   "display_name": "Python 3 (ipykernel)",
   "language": "python",
   "name": "python3"
  },
  "language_info": {
   "codemirror_mode": {
    "name": "ipython",
    "version": 3
   },
   "file_extension": ".py",
   "mimetype": "text/x-python",
   "name": "python",
   "nbconvert_exporter": "python",
   "pygments_lexer": "ipython3",
   "version": "3.9.12"
  },
  "toc": {
   "base_numbering": 1,
   "nav_menu": {},
   "number_sections": true,
   "sideBar": true,
   "skip_h1_title": true,
   "title_cell": "Table of Contents",
   "title_sidebar": "Contents",
   "toc_cell": false,
   "toc_position": {
    "height": "calc(100% - 180px)",
    "left": "10px",
    "top": "150px",
    "width": "391.837px"
   },
   "toc_section_display": true,
   "toc_window_display": true
  }
 },
 "nbformat": 4,
 "nbformat_minor": 2
}
